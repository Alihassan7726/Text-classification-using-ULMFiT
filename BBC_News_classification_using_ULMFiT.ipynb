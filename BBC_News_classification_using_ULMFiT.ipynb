{
  "nbformat": 4,
  "nbformat_minor": 0,
  "metadata": {
    "colab": {
      "name": "BBC News classification using ULMFiT.ipynb",
      "provenance": [],
      "collapsed_sections": [],
      "authorship_tag": "ABX9TyOXBwtx2ZEhMuf8UZU2Trf0",
      "include_colab_link": true
    },
    "kernelspec": {
      "name": "python3",
      "display_name": "Python 3"
    },
    "language_info": {
      "name": "python"
    },
    "accelerator": "GPU"
  },
  "cells": [
    {
      "cell_type": "markdown",
      "metadata": {
        "id": "view-in-github",
        "colab_type": "text"
      },
      "source": [
        "<a href=\"https://colab.research.google.com/github/Alihassan7726/Text-classification-using-ULMFiT/blob/main/BBC_News_classification_using_ULMFiT.ipynb\" target=\"_parent\"><img src=\"https://colab.research.google.com/assets/colab-badge.svg\" alt=\"Open In Colab\"/></a>"
      ]
    },
    {
      "cell_type": "markdown",
      "metadata": {
        "id": "8DWCnWtQgCfQ"
      },
      "source": [
        "# Table of Contents\n",
        "1. Importing Modules \n",
        "2. Getting the Data\n",
        "3. Cleaning Data\n",
        "4. Splitting Data into train and val sets\n",
        "5. Creating Data for forward language model\n",
        "6. Creating Data for backward language model\n",
        "7. Fine-tuning forward language model \n",
        "8. Fine-tuning backward language model\n",
        "9. Creating Data for forward Classifier\n",
        "10. Creating Data for backward Classifier\n",
        "11. Training forward Classifier \n",
        "12. Training backward Classifier\n",
        "13. Ensembling both predictions\n"
      ]
    },
    {
      "cell_type": "markdown",
      "metadata": {
        "id": "269r9-OWgZv2"
      },
      "source": [
        "## 1. Importing Modules \n"
      ]
    },
    {
      "cell_type": "code",
      "metadata": {
        "id": "pkWr86cuf9IH"
      },
      "source": [
        "# For installation\n",
        "pip install fastai"
      ],
      "execution_count": null,
      "outputs": []
    },
    {
      "cell_type": "code",
      "metadata": {
        "id": "Jsd4FeAFGHGD"
      },
      "source": [
        "# import libraries\n",
        "import fastai\n",
        "from fastai import *\n",
        "from fastai.text import * \n",
        "import pandas as pd\n",
        "import numpy as np\n",
        "from functools import partial\n",
        "import io\n",
        "import os\n",
        "pd.set_option('display.width',1000)\n",
        "pd.set_option('max_colwidth', 1000) \n",
        "import pandas as pd"
      ],
      "execution_count": null,
      "outputs": []
    },
    {
      "cell_type": "code",
      "metadata": {
        "colab": {
          "base_uri": "https://localhost:8080/"
        },
        "id": "AlX-js0jGUes",
        "outputId": "2a95e3bb-6412-4ebe-ef13-18e7f2b639e7"
      },
      "source": [
        "import nltk\n",
        "nltk.download('stopwords')\n",
        "nltk.download('wordnet')\n",
        "from nltk.corpus import stopwords\n",
        "from nltk.tokenize import word_tokenize\n",
        "stpwrds = set(stopwords.words('english'))\n",
        "stpwrds.discard('not')\n",
        "stpwrds.discard('no')\n",
        "import os\n",
        "import re\n",
        "from nltk.stem import WordNetLemmatizer as wnl\n",
        "import sklearn\n"
      ],
      "execution_count": null,
      "outputs": [
        {
          "output_type": "stream",
          "text": [
            "[nltk_data] Downloading package stopwords to /root/nltk_data...\n",
            "[nltk_data]   Unzipping corpora/stopwords.zip.\n",
            "[nltk_data] Downloading package wordnet to /root/nltk_data...\n",
            "[nltk_data]   Unzipping corpora/wordnet.zip.\n"
          ],
          "name": "stdout"
        }
      ]
    },
    {
      "cell_type": "markdown",
      "metadata": {
        "id": "6gm0ZlayrEZq"
      },
      "source": [
        "## 2. Getting the Data\n",
        "\n",
        "We'll be using BBC news headlines DataSet . It can be downloaded easily using below link . "
      ]
    },
    {
      "cell_type": "code",
      "metadata": {
        "colab": {
          "base_uri": "https://localhost:8080/"
        },
        "id": "ROwX4TGhrHAH",
        "outputId": "393169a3-4320-4e89-ca08-48207aa510b1"
      },
      "source": [
        "# Data is fetched and stored in tmp folder with name bbc-text.csv\n",
        "!wget --no-check-certificate \\\n",
        "    https://storage.googleapis.com/dataset-uploader/bbc/bbc-text.csv \\\n",
        "    -O /tmp/bbc-text.csv"
      ],
      "execution_count": null,
      "outputs": [
        {
          "output_type": "stream",
          "text": [
            "--2021-06-08 05:08:45--  https://storage.googleapis.com/dataset-uploader/bbc/bbc-text.csv\n",
            "Resolving storage.googleapis.com (storage.googleapis.com)... 142.250.141.128, 2607:f8b0:4023:c0b::80, 2607:f8b0:4023:c03::80, ...\n",
            "Connecting to storage.googleapis.com (storage.googleapis.com)|142.250.141.128|:443... connected.\n",
            "HTTP request sent, awaiting response... 200 OK\n",
            "Length: 5057493 (4.8M) [text/csv]\n",
            "Saving to: ‘/tmp/bbc-text.csv’\n",
            "\n",
            "\r/tmp/bbc-text.csv     0%[                    ]       0  --.-KB/s               \r/tmp/bbc-text.csv   100%[===================>]   4.82M  --.-KB/s    in 0.02s   \n",
            "\n",
            "2021-06-08 05:08:45 (257 MB/s) - ‘/tmp/bbc-text.csv’ saved [5057493/5057493]\n",
            "\n"
          ],
          "name": "stdout"
        }
      ]
    },
    {
      "cell_type": "code",
      "metadata": {
        "colab": {
          "base_uri": "https://localhost:8080/",
          "height": 544
        },
        "id": "Hw9qGvM1rZzf",
        "outputId": "dc351eea-ac20-48b1-fe94-032fc60f33c9"
      },
      "source": [
        "df = pd.read_csv('/tmp/bbc-text.csv' , delimiter = ',')\n",
        "df.head()"
      ],
      "execution_count": null,
      "outputs": [
        {
          "output_type": "execute_result",
          "data": {
            "text/html": [
              "<div>\n",
              "<style scoped>\n",
              "    .dataframe tbody tr th:only-of-type {\n",
              "        vertical-align: middle;\n",
              "    }\n",
              "\n",
              "    .dataframe tbody tr th {\n",
              "        vertical-align: top;\n",
              "    }\n",
              "\n",
              "    .dataframe thead th {\n",
              "        text-align: right;\n",
              "    }\n",
              "</style>\n",
              "<table border=\"1\" class=\"dataframe\">\n",
              "  <thead>\n",
              "    <tr style=\"text-align: right;\">\n",
              "      <th></th>\n",
              "      <th>category</th>\n",
              "      <th>text</th>\n",
              "    </tr>\n",
              "  </thead>\n",
              "  <tbody>\n",
              "    <tr>\n",
              "      <th>0</th>\n",
              "      <td>tech</td>\n",
              "      <td>tv future in the hands of viewers with home theatre systems  plasma high-definition tvs  and digital video recorders moving into the living room  the way people watch tv will be radically different in five years  time.  that is according to an expert panel which gathered at the annual consumer electronics show in las vegas to discuss how these new technologies will impact one of our favourite pastimes. with the us leading the trend  programmes and other content will be delivered to viewers via home networks  through cable  satellite  telecoms companies  and broadband service providers to front rooms and portable devices.  one of the most talked-about technologies of ces has been digital and personal video recorders (dvr and pvr). these set-top boxes  like the us s tivo and the uk s sky+ system  allow people to record  store  play  pause and forward wind tv programmes when they want.  essentially  the technology allows for much more personalised tv. they are also being built-in to h...</td>\n",
              "    </tr>\n",
              "    <tr>\n",
              "      <th>1</th>\n",
              "      <td>business</td>\n",
              "      <td>worldcom boss  left books alone  former worldcom boss bernie ebbers  who is accused of overseeing an $11bn (£5.8bn) fraud  never made accounting decisions  a witness has told jurors.  david myers made the comments under questioning by defence lawyers who have been arguing that mr ebbers was not responsible for worldcom s problems. the phone company collapsed in 2002 and prosecutors claim that losses were hidden to protect the firm s shares. mr myers has already pleaded guilty to fraud and is assisting prosecutors.  on monday  defence lawyer reid weingarten tried to distance his client from the allegations. during cross examination  he asked mr myers if he ever knew mr ebbers  make an accounting decision  .  not that i am aware of   mr myers replied.  did you ever know mr ebbers to make an accounting entry into worldcom books   mr weingarten pressed.  no   replied the witness. mr myers has admitted that he ordered false accounting entries at the request of former worldcom chief fina...</td>\n",
              "    </tr>\n",
              "    <tr>\n",
              "      <th>2</th>\n",
              "      <td>sport</td>\n",
              "      <td>tigers wary of farrell  gamble  leicester say they will not be rushed into making a bid for andy farrell should the great britain rugby league captain decide to switch codes.   we and anybody else involved in the process are still some way away from going to the next stage   tigers boss john wells told bbc radio leicester.  at the moment  there are still a lot of unknowns about andy farrell  not least his medical situation.  whoever does take him on is going to take a big  big gamble.  farrell  who has had persistent knee problems  had an operation on his knee five weeks ago and is expected to be out for another three months. leicester and saracens are believed to head the list of rugby union clubs interested in signing farrell if he decides to move to the 15-man game.  if he does move across to union  wells believes he would better off playing in the backs  at least initially.  i m sure he could make the step between league and union by being involved in the centre   said wells.  ...</td>\n",
              "    </tr>\n",
              "    <tr>\n",
              "      <th>3</th>\n",
              "      <td>sport</td>\n",
              "      <td>yeading face newcastle in fa cup premiership side newcastle united face a trip to ryman premier league leaders yeading in the fa cup third round.  the game - arguably the highlight of the draw - is a potential money-spinner for non-league yeading  who beat slough in the second round. conference side exeter city  who knocked out doncaster on saturday  will travel to old trafford to meet holders manchester united in january. arsenal were drawn at home to stoke and chelsea will play host to scunthorpe. the only other non-league side in the draw are hinckley united  who held brentford to a goalless draw on sunday. they will meet league one leaders luton if they win their replay against martin allen s team at griffin park.  a number of premiership teams face difficult away games against championship sides on the weekend of 8/9 january. third-placed everton visit plymouth  liverpool travel to burnley  crystal palace go to sunderland  fulham face carling cup semi-finalists watford  bolton...</td>\n",
              "    </tr>\n",
              "    <tr>\n",
              "      <th>4</th>\n",
              "      <td>entertainment</td>\n",
              "      <td>ocean s twelve raids box office ocean s twelve  the crime caper sequel starring george clooney  brad pitt and julia roberts  has gone straight to number one in the us box office chart.  it took $40.8m (£21m) in weekend ticket sales  according to studio estimates. the sequel follows the master criminals as they try to pull off three major heists across europe. it knocked last week s number one  national treasure  into third place. wesley snipes  blade: trinity was in second  taking $16.1m (£8.4m). rounding out the top five was animated fable the polar express  starring tom hanks  and festive comedy christmas with the kranks.  ocean s twelve box office triumph marks the fourth-biggest opening for a december release in the us  after the three films in the lord of the rings trilogy. the sequel narrowly beat its 2001 predecessor  ocean s eleven which took $38.1m (£19.8m) on its opening weekend and $184m (£95.8m) in total. a remake of the 1960s film  starring frank sinatra and the rat pa...</td>\n",
              "    </tr>\n",
              "  </tbody>\n",
              "</table>\n",
              "</div>"
            ],
            "text/plain": [
              "        category                                                                                                                                                                                                                                                                                                                                                                                                                                                                                                                                                                                                                                                                                                                                                                                                                                                                                                                                                                                                                                     text\n",
              "0           tech  tv future in the hands of viewers with home theatre systems  plasma high-definition tvs  and digital video recorders moving into the living room  the way people watch tv will be radically different in five years  time.  that is according to an expert panel which gathered at the annual consumer electronics show in las vegas to discuss how these new technologies will impact one of our favourite pastimes. with the us leading the trend  programmes and other content will be delivered to viewers via home networks  through cable  satellite  telecoms companies  and broadband service providers to front rooms and portable devices.  one of the most talked-about technologies of ces has been digital and personal video recorders (dvr and pvr). these set-top boxes  like the us s tivo and the uk s sky+ system  allow people to record  store  play  pause and forward wind tv programmes when they want.  essentially  the technology allows for much more personalised tv. they are also being built-in to h...\n",
              "1       business  worldcom boss  left books alone  former worldcom boss bernie ebbers  who is accused of overseeing an $11bn (£5.8bn) fraud  never made accounting decisions  a witness has told jurors.  david myers made the comments under questioning by defence lawyers who have been arguing that mr ebbers was not responsible for worldcom s problems. the phone company collapsed in 2002 and prosecutors claim that losses were hidden to protect the firm s shares. mr myers has already pleaded guilty to fraud and is assisting prosecutors.  on monday  defence lawyer reid weingarten tried to distance his client from the allegations. during cross examination  he asked mr myers if he ever knew mr ebbers  make an accounting decision  .  not that i am aware of   mr myers replied.  did you ever know mr ebbers to make an accounting entry into worldcom books   mr weingarten pressed.  no   replied the witness. mr myers has admitted that he ordered false accounting entries at the request of former worldcom chief fina...\n",
              "2          sport  tigers wary of farrell  gamble  leicester say they will not be rushed into making a bid for andy farrell should the great britain rugby league captain decide to switch codes.   we and anybody else involved in the process are still some way away from going to the next stage   tigers boss john wells told bbc radio leicester.  at the moment  there are still a lot of unknowns about andy farrell  not least his medical situation.  whoever does take him on is going to take a big  big gamble.  farrell  who has had persistent knee problems  had an operation on his knee five weeks ago and is expected to be out for another three months. leicester and saracens are believed to head the list of rugby union clubs interested in signing farrell if he decides to move to the 15-man game.  if he does move across to union  wells believes he would better off playing in the backs  at least initially.  i m sure he could make the step between league and union by being involved in the centre   said wells.  ...\n",
              "3          sport  yeading face newcastle in fa cup premiership side newcastle united face a trip to ryman premier league leaders yeading in the fa cup third round.  the game - arguably the highlight of the draw - is a potential money-spinner for non-league yeading  who beat slough in the second round. conference side exeter city  who knocked out doncaster on saturday  will travel to old trafford to meet holders manchester united in january. arsenal were drawn at home to stoke and chelsea will play host to scunthorpe. the only other non-league side in the draw are hinckley united  who held brentford to a goalless draw on sunday. they will meet league one leaders luton if they win their replay against martin allen s team at griffin park.  a number of premiership teams face difficult away games against championship sides on the weekend of 8/9 january. third-placed everton visit plymouth  liverpool travel to burnley  crystal palace go to sunderland  fulham face carling cup semi-finalists watford  bolton...\n",
              "4  entertainment  ocean s twelve raids box office ocean s twelve  the crime caper sequel starring george clooney  brad pitt and julia roberts  has gone straight to number one in the us box office chart.  it took $40.8m (£21m) in weekend ticket sales  according to studio estimates. the sequel follows the master criminals as they try to pull off three major heists across europe. it knocked last week s number one  national treasure  into third place. wesley snipes  blade: trinity was in second  taking $16.1m (£8.4m). rounding out the top five was animated fable the polar express  starring tom hanks  and festive comedy christmas with the kranks.  ocean s twelve box office triumph marks the fourth-biggest opening for a december release in the us  after the three films in the lord of the rings trilogy. the sequel narrowly beat its 2001 predecessor  ocean s eleven which took $38.1m (£19.8m) on its opening weekend and $184m (£95.8m) in total. a remake of the 1960s film  starring frank sinatra and the rat pa..."
            ]
          },
          "metadata": {
            "tags": []
          },
          "execution_count": 4
        }
      ]
    },
    {
      "cell_type": "code",
      "metadata": {
        "colab": {
          "base_uri": "https://localhost:8080/"
        },
        "id": "wSECrj99sCFY",
        "outputId": "2b6e6cf0-e08f-4b28-bc0c-5b797164283f"
      },
      "source": [
        "df.info()"
      ],
      "execution_count": null,
      "outputs": [
        {
          "output_type": "stream",
          "text": [
            "<class 'pandas.core.frame.DataFrame'>\n",
            "RangeIndex: 2225 entries, 0 to 2224\n",
            "Data columns (total 2 columns):\n",
            " #   Column    Non-Null Count  Dtype \n",
            "---  ------    --------------  ----- \n",
            " 0   category  2225 non-null   object\n",
            " 1   text      2225 non-null   object\n",
            "dtypes: object(2)\n",
            "memory usage: 34.9+ KB\n"
          ],
          "name": "stdout"
        }
      ]
    },
    {
      "cell_type": "code",
      "metadata": {
        "colab": {
          "base_uri": "https://localhost:8080/"
        },
        "id": "JAx_SDj-zLT_",
        "outputId": "5bd4766f-dd8b-4786-8a21-5ec3c3d0ecd9"
      },
      "source": [
        "df['category'].value_counts()"
      ],
      "execution_count": null,
      "outputs": [
        {
          "output_type": "execute_result",
          "data": {
            "text/plain": [
              "sport            511\n",
              "business         510\n",
              "politics         417\n",
              "tech             401\n",
              "entertainment    386\n",
              "Name: category, dtype: int64"
            ]
          },
          "metadata": {
            "tags": []
          },
          "execution_count": 6
        }
      ]
    },
    {
      "cell_type": "code",
      "metadata": {
        "colab": {
          "base_uri": "https://localhost:8080/"
        },
        "id": "s5hJ4i_jGvBe",
        "outputId": "14965f90-6e4c-487a-df17-22a4e56a1a30"
      },
      "source": [
        "# For simplicity we'll be taking only 2 classes for this task\n",
        "df = df[df['category'].isin(['tech','business'])]\n",
        "df.info()"
      ],
      "execution_count": null,
      "outputs": [
        {
          "output_type": "stream",
          "text": [
            "<class 'pandas.core.frame.DataFrame'>\n",
            "Int64Index: 911 entries, 0 to 2220\n",
            "Data columns (total 2 columns):\n",
            " #   Column    Non-Null Count  Dtype \n",
            "---  ------    --------------  ----- \n",
            " 0   category  911 non-null    object\n",
            " 1   text      911 non-null    object\n",
            "dtypes: object(2)\n",
            "memory usage: 21.4+ KB\n"
          ],
          "name": "stdout"
        }
      ]
    },
    {
      "cell_type": "markdown",
      "metadata": {
        "id": "4VScsixAgz1U"
      },
      "source": [
        "## 3. Cleaning Data\n"
      ]
    },
    {
      "cell_type": "code",
      "metadata": {
        "colab": {
          "base_uri": "https://localhost:8080/",
          "height": 969
        },
        "id": "oPfl3BdUG5cz",
        "outputId": "feda9207-29a9-4acd-83fe-cb143604a546"
      },
      "source": [
        "# A simple function for data cleaning\n",
        "\n",
        "def clean_text(text):  \n",
        "    lower = text.lower()\n",
        "    words = re.sub(r\"(@[A-Za-z]+)|([^A-Za-z \\t])|(\\w+:\\/\\/\\S+)|^rt|http.+?\", \"\", lower )  \n",
        "    #pattren = r\"[^\\w\\s\\d]\"\n",
        "    #words = re.sub(pattren, \"\", lower)\n",
        "    words2 = words.split()\n",
        "    #print(words2)\n",
        "    final_words =  [wnl().lemmatize(word , pos = 'v') for word in words2 if word not in stopwords.words('english')]\n",
        "    final_words = ' '.join(final_words)\n",
        "    return(final_words)\n",
        "    \n",
        "df['Cleaned-text'] = df['text'].apply(clean_text)\n",
        "df.head()"
      ],
      "execution_count": null,
      "outputs": [
        {
          "output_type": "execute_result",
          "data": {
            "text/html": [
              "<div>\n",
              "<style scoped>\n",
              "    .dataframe tbody tr th:only-of-type {\n",
              "        vertical-align: middle;\n",
              "    }\n",
              "\n",
              "    .dataframe tbody tr th {\n",
              "        vertical-align: top;\n",
              "    }\n",
              "\n",
              "    .dataframe thead th {\n",
              "        text-align: right;\n",
              "    }\n",
              "</style>\n",
              "<table border=\"1\" class=\"dataframe\">\n",
              "  <thead>\n",
              "    <tr style=\"text-align: right;\">\n",
              "      <th></th>\n",
              "      <th>category</th>\n",
              "      <th>text</th>\n",
              "      <th>Cleaned-text</th>\n",
              "    </tr>\n",
              "  </thead>\n",
              "  <tbody>\n",
              "    <tr>\n",
              "      <th>0</th>\n",
              "      <td>tech</td>\n",
              "      <td>tv future in the hands of viewers with home theatre systems  plasma high-definition tvs  and digital video recorders moving into the living room  the way people watch tv will be radically different in five years  time.  that is according to an expert panel which gathered at the annual consumer electronics show in las vegas to discuss how these new technologies will impact one of our favourite pastimes. with the us leading the trend  programmes and other content will be delivered to viewers via home networks  through cable  satellite  telecoms companies  and broadband service providers to front rooms and portable devices.  one of the most talked-about technologies of ces has been digital and personal video recorders (dvr and pvr). these set-top boxes  like the us s tivo and the uk s sky+ system  allow people to record  store  play  pause and forward wind tv programmes when they want.  essentially  the technology allows for much more personalised tv. they are also being built-in to h...</td>\n",
              "      <td>tv future hand viewers home theatre systems plasma highdefinition tvs digital video recorders move live room way people watch tv radically different five years time accord expert panel gather annual consumer electronics show las vegas discuss new technologies impact one favourite pastimes us lead trend program content deliver viewers via home network cable satellite telecoms company broadband service providers front room portable devices one talkedabout technologies ces digital personal video recorders dvr pvr settop box like us tivo uk sky system allow people record store play pause forward wind tv program want essentially technology allow much personalise tv also builtin highdefinition tv set big business japan us slower take europe lack highdefinition program people forward wind advert also forget abide network channel schedule put together alacarte entertainment us network cable satellite company worry mean term advertise revenues well brand identity viewer loyalty channel alth...</td>\n",
              "    </tr>\n",
              "    <tr>\n",
              "      <th>1</th>\n",
              "      <td>business</td>\n",
              "      <td>worldcom boss  left books alone  former worldcom boss bernie ebbers  who is accused of overseeing an $11bn (£5.8bn) fraud  never made accounting decisions  a witness has told jurors.  david myers made the comments under questioning by defence lawyers who have been arguing that mr ebbers was not responsible for worldcom s problems. the phone company collapsed in 2002 and prosecutors claim that losses were hidden to protect the firm s shares. mr myers has already pleaded guilty to fraud and is assisting prosecutors.  on monday  defence lawyer reid weingarten tried to distance his client from the allegations. during cross examination  he asked mr myers if he ever knew mr ebbers  make an accounting decision  .  not that i am aware of   mr myers replied.  did you ever know mr ebbers to make an accounting entry into worldcom books   mr weingarten pressed.  no   replied the witness. mr myers has admitted that he ordered false accounting entries at the request of former worldcom chief fina...</td>\n",
              "      <td>worldcom boss leave book alone former worldcom boss bernie ebbers accuse oversee bn bn fraud never make account decisions witness tell jurors david myers make comment question defence lawyers argue mr ebbers responsible worldcom problems phone company collapse prosecutors claim losses hide protect firm share mr myers already plead guilty fraud assist prosecutors monday defence lawyer reid weingarten try distance client allegations cross examination ask mr myers ever know mr ebbers make account decision aware mr myers reply ever know mr ebbers make account entry worldcom book mr weingarten press reply witness mr myers admit order false account entries request former worldcom chief financial officer scott sullivan defence lawyers try paint mr sullivan admit fraud testify later trial mastermind behind worldcom account house card mr ebbers team meanwhile look portray affable boss admission pe graduate economist whatever abilities mr ebbers transform worldcom relative unknown bn telecom...</td>\n",
              "    </tr>\n",
              "    <tr>\n",
              "      <th>11</th>\n",
              "      <td>business</td>\n",
              "      <td>virgin blue shares plummet 20% shares in australian budget airline virgin blue plunged 20% after it warned of a steep fall in full year profits.  virgin blue said profits after tax for the year to march would be between 10% to 15% lower than the previous year.  sluggish demand reported previously for november and now december 2004 continues   said virgin blue chief executive brett godfrey. virgin blue  which is 25% owned by richard branson  has been struggling to fend off pressure from rival jetstar. it cut its full year passenger number forecast by  approximately 2.5% . virgin blue reported a 22% fall in first quarter profits in august 2004 due to tough competition. in november  first half profits were down due to slack demand and rising fuel costs. virgin blue was launched four years ago and now has roughly one third of australia s domestic airline market. but the national carrier  qantas  has fought back with its own budget airline  jetstar  which took to the skies in may 2004. ...</td>\n",
              "      <td>virgin blue share plummet share australian budget airline virgin blue plunge warn steep fall full year profit virgin blue say profit tax year march would lower previous year sluggish demand report previously november december continue say virgin blue chief executive brett godfrey virgin blue own richard branson struggle fend pressure rival jetstar cut full year passenger number forecast approximately virgin blue report fall first quarter profit august due tough competition november first half profit due slack demand rise fuel cost virgin blue launch four years ago roughly one third australia domestic airline market national carrier qantas fight back budget airline jetstar take sky may sydneylisted virgin blue share recover slightly close wednesday share major shareholder patrick corporation own virgin blue drop close</td>\n",
              "    </tr>\n",
              "    <tr>\n",
              "      <th>12</th>\n",
              "      <td>business</td>\n",
              "      <td>crude oil prices back above $50 cold weather across parts of the united states and much of europe has pushed us crude oil prices above $50 a barrel for the first time in almost three months.  freezing temperatures and heavy snowfall have increased demand for heating fuel in the us  where stocks are low. fresh falls in the value of the dollar helped carry prices above the $50 mark for the first time since november. a barrel of us crude oil closed up $2.80 to $51.15 in new york on tuesday. opec members said on tuesday that it saw no reason to cut its output.  although below last year s peak of $55.67 a barrel  which was reached in october  prices are now well above 2004 s average of $41.48.  brent crude also rose in london trading  adding $1.89 to $48.62 at the close. much of western europe and the north east of america has been shivering under unseasonably low temperatures in recent days. the decline in the us dollar to a five-week low against the euro has also served to inflate pri...</td>\n",
              "      <td>crude oil price back cold weather across part unite state much europe push us crude oil price barrel first time almost three months freeze temperatures heavy snowfall increase demand heat fuel us stock low fresh fall value dollar help carry price mark first time since november barrel us crude oil close new york tuesday opec members say tuesday saw reason cut output although last year peak barrel reach october price well average brent crude also rise london trade add close much western europe north east america shiver unseasonably low temperatures recent days decline us dollar fiveweek low euro also serve inflate price dollar move sharply overnight oil follow say chris furness senior market strategist cast dollar continue weaken oil obviously higher several opec members say cut production unlikely cite rise price strong demand oil asia agree need cut supply price much fathi bin shatwan libya oil minister tell reuters think need cut unless price fall barrel add opec closely watch glo...</td>\n",
              "    </tr>\n",
              "    <tr>\n",
              "      <th>15</th>\n",
              "      <td>business</td>\n",
              "      <td>s korean credit card firm rescued south korea s largest credit card firm has averted liquidation following a one trillion won ($960m; £499m) bail-out.  lg card had been threatened with collapse because of its huge debts but the firm s creditors and its former parent have stepped in to rescue it. a consortium of creditors and lg group  a family owned conglomerate  have each put up $480m to stabilise the firm. lg card has seven million customers and its collapse would have sent shockwaves through the country s economy.  the firm s creditors - which own 99% of lg card - have been trying to agree a deal to secure its future for several weeks. they took control of the company in january when it avoided bankruptcy only through a $4.5bn bail-out.  they had threatened to delist the company  a move which would have triggered massive debt redemptions and forced the company into bankruptcy  unless agreement was reached on its future funding.  lg card will not need any more financial aid after...</td>\n",
              "      <td>korean credit card firm rescue south korea largest credit card firm avert liquidation follow one trillion bailout lg card threaten collapse huge debts firm creditors former parent step rescue consortium creditors lg group family own conglomerate put stabilise firm lg card seven million customers collapse would send shockwaves country economy firm creditors lg card try agree deal secure future several weeks take control company january avoid bankruptcy bn bailout threaten delist company move would trigger massive debt redemptions force company bankruptcy unless agreement reach future fund lg card need financial aid laah chonggyu executive director korea development bank one firm creditors say agreement see trillion debt convert equity purpose capital injection avoid delist goal meet david kim analyst sejong securities tell reuters south korea consumer credit market slowly recover crisis credit bubble burst millions consumers fell behind debt repayments lg card return profit septembe...</td>\n",
              "    </tr>\n",
              "  </tbody>\n",
              "</table>\n",
              "</div>"
            ],
            "text/plain": [
              "    category  ...                                                                                                                                                                                                                                                                                                                                                                                                                                                                                                                                                                                                                                                                                                                                                                                                                                                                                                                                                                                                                             Cleaned-text\n",
              "0       tech  ...  tv future hand viewers home theatre systems plasma highdefinition tvs digital video recorders move live room way people watch tv radically different five years time accord expert panel gather annual consumer electronics show las vegas discuss new technologies impact one favourite pastimes us lead trend program content deliver viewers via home network cable satellite telecoms company broadband service providers front room portable devices one talkedabout technologies ces digital personal video recorders dvr pvr settop box like us tivo uk sky system allow people record store play pause forward wind tv program want essentially technology allow much personalise tv also builtin highdefinition tv set big business japan us slower take europe lack highdefinition program people forward wind advert also forget abide network channel schedule put together alacarte entertainment us network cable satellite company worry mean term advertise revenues well brand identity viewer loyalty channel alth...\n",
              "1   business  ...  worldcom boss leave book alone former worldcom boss bernie ebbers accuse oversee bn bn fraud never make account decisions witness tell jurors david myers make comment question defence lawyers argue mr ebbers responsible worldcom problems phone company collapse prosecutors claim losses hide protect firm share mr myers already plead guilty fraud assist prosecutors monday defence lawyer reid weingarten try distance client allegations cross examination ask mr myers ever know mr ebbers make account decision aware mr myers reply ever know mr ebbers make account entry worldcom book mr weingarten press reply witness mr myers admit order false account entries request former worldcom chief financial officer scott sullivan defence lawyers try paint mr sullivan admit fraud testify later trial mastermind behind worldcom account house card mr ebbers team meanwhile look portray affable boss admission pe graduate economist whatever abilities mr ebbers transform worldcom relative unknown bn telecom...\n",
              "11  business  ...                                                                                                                                                                             virgin blue share plummet share australian budget airline virgin blue plunge warn steep fall full year profit virgin blue say profit tax year march would lower previous year sluggish demand report previously november december continue say virgin blue chief executive brett godfrey virgin blue own richard branson struggle fend pressure rival jetstar cut full year passenger number forecast approximately virgin blue report fall first quarter profit august due tough competition november first half profit due slack demand rise fuel cost virgin blue launch four years ago roughly one third australia domestic airline market national carrier qantas fight back budget airline jetstar take sky may sydneylisted virgin blue share recover slightly close wednesday share major shareholder patrick corporation own virgin blue drop close\n",
              "12  business  ...  crude oil price back cold weather across part unite state much europe push us crude oil price barrel first time almost three months freeze temperatures heavy snowfall increase demand heat fuel us stock low fresh fall value dollar help carry price mark first time since november barrel us crude oil close new york tuesday opec members say tuesday saw reason cut output although last year peak barrel reach october price well average brent crude also rise london trade add close much western europe north east america shiver unseasonably low temperatures recent days decline us dollar fiveweek low euro also serve inflate price dollar move sharply overnight oil follow say chris furness senior market strategist cast dollar continue weaken oil obviously higher several opec members say cut production unlikely cite rise price strong demand oil asia agree need cut supply price much fathi bin shatwan libya oil minister tell reuters think need cut unless price fall barrel add opec closely watch glo...\n",
              "15  business  ...  korean credit card firm rescue south korea largest credit card firm avert liquidation follow one trillion bailout lg card threaten collapse huge debts firm creditors former parent step rescue consortium creditors lg group family own conglomerate put stabilise firm lg card seven million customers collapse would send shockwaves country economy firm creditors lg card try agree deal secure future several weeks take control company january avoid bankruptcy bn bailout threaten delist company move would trigger massive debt redemptions force company bankruptcy unless agreement reach future fund lg card need financial aid laah chonggyu executive director korea development bank one firm creditors say agreement see trillion debt convert equity purpose capital injection avoid delist goal meet david kim analyst sejong securities tell reuters south korea consumer credit market slowly recover crisis credit bubble burst millions consumers fell behind debt repayments lg card return profit septembe...\n",
              "\n",
              "[5 rows x 3 columns]"
            ]
          },
          "metadata": {
            "tags": []
          },
          "execution_count": 8
        }
      ]
    },
    {
      "cell_type": "code",
      "metadata": {
        "colab": {
          "base_uri": "https://localhost:8080/",
          "height": 247
        },
        "id": "keqHGVOvJmSr",
        "outputId": "0c7cd079-5b5e-483b-bb38-ae2811ba3550"
      },
      "source": [
        "df.drop(columns=['text'],inplace=True)\n",
        "df.head(2)"
      ],
      "execution_count": null,
      "outputs": [
        {
          "output_type": "execute_result",
          "data": {
            "text/html": [
              "<div>\n",
              "<style scoped>\n",
              "    .dataframe tbody tr th:only-of-type {\n",
              "        vertical-align: middle;\n",
              "    }\n",
              "\n",
              "    .dataframe tbody tr th {\n",
              "        vertical-align: top;\n",
              "    }\n",
              "\n",
              "    .dataframe thead th {\n",
              "        text-align: right;\n",
              "    }\n",
              "</style>\n",
              "<table border=\"1\" class=\"dataframe\">\n",
              "  <thead>\n",
              "    <tr style=\"text-align: right;\">\n",
              "      <th></th>\n",
              "      <th>category</th>\n",
              "      <th>Cleaned-text</th>\n",
              "    </tr>\n",
              "  </thead>\n",
              "  <tbody>\n",
              "    <tr>\n",
              "      <th>0</th>\n",
              "      <td>tech</td>\n",
              "      <td>tv future hand viewers home theatre systems plasma highdefinition tvs digital video recorders move live room way people watch tv radically different five years time accord expert panel gather annual consumer electronics show las vegas discuss new technologies impact one favourite pastimes us lead trend program content deliver viewers via home network cable satellite telecoms company broadband service providers front room portable devices one talkedabout technologies ces digital personal video recorders dvr pvr settop box like us tivo uk sky system allow people record store play pause forward wind tv program want essentially technology allow much personalise tv also builtin highdefinition tv set big business japan us slower take europe lack highdefinition program people forward wind advert also forget abide network channel schedule put together alacarte entertainment us network cable satellite company worry mean term advertise revenues well brand identity viewer loyalty channel alth...</td>\n",
              "    </tr>\n",
              "    <tr>\n",
              "      <th>1</th>\n",
              "      <td>business</td>\n",
              "      <td>worldcom boss leave book alone former worldcom boss bernie ebbers accuse oversee bn bn fraud never make account decisions witness tell jurors david myers make comment question defence lawyers argue mr ebbers responsible worldcom problems phone company collapse prosecutors claim losses hide protect firm share mr myers already plead guilty fraud assist prosecutors monday defence lawyer reid weingarten try distance client allegations cross examination ask mr myers ever know mr ebbers make account decision aware mr myers reply ever know mr ebbers make account entry worldcom book mr weingarten press reply witness mr myers admit order false account entries request former worldcom chief financial officer scott sullivan defence lawyers try paint mr sullivan admit fraud testify later trial mastermind behind worldcom account house card mr ebbers team meanwhile look portray affable boss admission pe graduate economist whatever abilities mr ebbers transform worldcom relative unknown bn telecom...</td>\n",
              "    </tr>\n",
              "  </tbody>\n",
              "</table>\n",
              "</div>"
            ],
            "text/plain": [
              "   category                                                                                                                                                                                                                                                                                                                                                                                                                                                                                                                                                                                                                                                                                                                                                                                                                                                                                                                                                                                                                             Cleaned-text\n",
              "0      tech  tv future hand viewers home theatre systems plasma highdefinition tvs digital video recorders move live room way people watch tv radically different five years time accord expert panel gather annual consumer electronics show las vegas discuss new technologies impact one favourite pastimes us lead trend program content deliver viewers via home network cable satellite telecoms company broadband service providers front room portable devices one talkedabout technologies ces digital personal video recorders dvr pvr settop box like us tivo uk sky system allow people record store play pause forward wind tv program want essentially technology allow much personalise tv also builtin highdefinition tv set big business japan us slower take europe lack highdefinition program people forward wind advert also forget abide network channel schedule put together alacarte entertainment us network cable satellite company worry mean term advertise revenues well brand identity viewer loyalty channel alth...\n",
              "1  business  worldcom boss leave book alone former worldcom boss bernie ebbers accuse oversee bn bn fraud never make account decisions witness tell jurors david myers make comment question defence lawyers argue mr ebbers responsible worldcom problems phone company collapse prosecutors claim losses hide protect firm share mr myers already plead guilty fraud assist prosecutors monday defence lawyer reid weingarten try distance client allegations cross examination ask mr myers ever know mr ebbers make account decision aware mr myers reply ever know mr ebbers make account entry worldcom book mr weingarten press reply witness mr myers admit order false account entries request former worldcom chief financial officer scott sullivan defence lawyers try paint mr sullivan admit fraud testify later trial mastermind behind worldcom account house card mr ebbers team meanwhile look portray affable boss admission pe graduate economist whatever abilities mr ebbers transform worldcom relative unknown bn telecom..."
            ]
          },
          "metadata": {
            "tags": []
          },
          "execution_count": 9
        }
      ]
    },
    {
      "cell_type": "markdown",
      "metadata": {
        "id": "0ivz_dyIg9c8"
      },
      "source": [
        "## 4. Splitting Data into train and val sets"
      ]
    },
    {
      "cell_type": "code",
      "metadata": {
        "colab": {
          "base_uri": "https://localhost:8080/"
        },
        "id": "b_J5D2dLJ6lY",
        "outputId": "70e1fd74-3447-4634-d710-a63a23b3603e"
      },
      "source": [
        "import sklearn\n",
        "from sklearn.model_selection import train_test_split\n",
        "\n",
        "df_train, df_val = train_test_split(df, stratify = df['category'], test_size = 0.1, random_state = 12)\n",
        "\n",
        "print(df_train.shape)\n",
        "print(df_val.shape)"
      ],
      "execution_count": null,
      "outputs": [
        {
          "output_type": "stream",
          "text": [
            "(819, 2)\n",
            "(92, 2)\n"
          ],
          "name": "stdout"
        }
      ]
    },
    {
      "cell_type": "code",
      "metadata": {
        "id": "m9hXAYHkBt_O"
      },
      "source": [
        "del(df)"
      ],
      "execution_count": null,
      "outputs": []
    },
    {
      "cell_type": "markdown",
      "metadata": {
        "id": "k56em4JUaLZ6"
      },
      "source": [
        "## 5. Creating Data for forward language model\n"
      ]
    },
    {
      "cell_type": "code",
      "metadata": {
        "id": "n-4feC1bY5S-"
      },
      "source": [
        "# Batch-size and BPTT\n",
        "bs,bptt=32,40\n"
      ],
      "execution_count": null,
      "outputs": []
    },
    {
      "cell_type": "code",
      "metadata": {
        "colab": {
          "base_uri": "https://localhost:8080/",
          "height": 71
        },
        "id": "jjCkpwG7KmBb",
        "outputId": "3949c1ee-0634-44f5-b89a-b330f77c01d1"
      },
      "source": [
        "# Language model data\n",
        "# This part may take some time\n",
        "data_lm = TextLMDataBunch.from_df(train_df = df_train, valid_df = df_val, path = \"\" )\n",
        "\n",
        "data_lm.save('data_lm.pkl')\n"
      ],
      "execution_count": null,
      "outputs": [
        {
          "output_type": "display_data",
          "data": {
            "text/html": [
              ""
            ],
            "text/plain": [
              "<IPython.core.display.HTML object>"
            ]
          },
          "metadata": {
            "tags": []
          }
        },
        {
          "output_type": "stream",
          "text": [
            "/usr/local/lib/python3.7/dist-packages/fastai/core.py:302: VisibleDeprecationWarning: Creating an ndarray from ragged nested sequences (which is a list-or-tuple of lists-or-tuples-or ndarrays with different lengths or shapes) is deprecated. If you meant to do this, you must specify 'dtype=object' when creating the ndarray\n",
            "  return np.array(a, dtype=dtype, **kwargs)\n"
          ],
          "name": "stderr"
        },
        {
          "output_type": "display_data",
          "data": {
            "text/html": [
              ""
            ],
            "text/plain": [
              "<IPython.core.display.HTML object>"
            ]
          },
          "metadata": {
            "tags": []
          }
        }
      ]
    },
    {
      "cell_type": "code",
      "metadata": {
        "id": "_c256VAzaw-K"
      },
      "source": [
        "del(data_lm)\n",
        "path = \"/content/\"\n",
        "data_lm = load_data(path , 'data_lm.pkl', bs=bs, bptt=bptt)\n"
      ],
      "execution_count": null,
      "outputs": []
    },
    {
      "cell_type": "code",
      "metadata": {
        "colab": {
          "base_uri": "https://localhost:8080/",
          "height": 289
        },
        "id": "1-y5JGJOcO7X",
        "outputId": "4d23ee36-43ff-4ddb-b3ab-f16e8b11cf14"
      },
      "source": [
        "data_lm.show_batch()\n"
      ],
      "execution_count": null,
      "outputs": [
        {
          "output_type": "display_data",
          "data": {
            "text/html": [
              "<table border=\"1\" class=\"dataframe\">\n",
              "  <thead>\n",
              "    <tr style=\"text-align: right;\">\n",
              "      <th>idx</th>\n",
              "      <th>text</th>\n",
              "    </tr>\n",
              "  </thead>\n",
              "  <tbody>\n",
              "    <tr>\n",
              "      <td>0</td>\n",
              "      <td>highest rank executive plead guilty tuesday former marsh senior vice president joshua bewlay admit one felony count scheme defraud face four years prison marsh spokeswoman say mr bewlay longer company mr spitzer investigation us insurance industry look whether company rig</td>\n",
              "    </tr>\n",
              "    <tr>\n",
              "      <td>1</td>\n",
              "      <td>cash allow cheap plenty room improve could end make expensive long run good basic xxunk pretty monitor rather xxunk display upgrade offer xxunk basic model xxunk might find want xxunk change quite quickly nick ross deputy labs editor pc pro</td>\n",
              "    </tr>\n",
              "    <tr>\n",
              "      <td>2</td>\n",
              "      <td>pop people want portability say peertopeer portability cory doctorow european coordinator electronic frontier foundation campaign consumers many cyberrights issue express doubt marlin system would achieve aim one systems ever prevent piracy illegal copy say say many firm readily admit drm</td>\n",
              "    </tr>\n",
              "    <tr>\n",
              "      <td>3</td>\n",
              "      <td>new seafarers identity document incorporate barcode represent unique feature holder fingerprint card due issue february next year line revise un convention seafarers identity document june test currently way caribbean design ensure new card machine readers produce different company different countries</td>\n",
              "    </tr>\n",
              "    <tr>\n",
              "      <td>4</td>\n",
              "      <td>remain xxunk malaysia thirdbiggest lender already scout foreign partner new islamic bank unit firm tell reuters move put malaysia ahead deadline open sector country deal join world trade organisation set year deadline liberalisation islamic bank also tuesday central bank release</td>\n",
              "    </tr>\n",
              "  </tbody>\n",
              "</table>"
            ],
            "text/plain": [
              "<IPython.core.display.HTML object>"
            ]
          },
          "metadata": {
            "tags": []
          }
        }
      ]
    },
    {
      "cell_type": "markdown",
      "metadata": {
        "id": "cxL7WV1tdNRP"
      },
      "source": [
        "## 6. Creating Data for backward language model\n",
        "\n",
        "This methods reads the data from backwards just like reverse part of normal Bi-directional LSTM . It can be easily implemented by loading the same \"data_lm\" object with backwards = True argument that reads the data from reverse side .  "
      ]
    },
    {
      "cell_type": "code",
      "metadata": {
        "colab": {
          "base_uri": "https://localhost:8080/",
          "height": 289
        },
        "id": "2JfUAa_Kc88G",
        "outputId": "213aff20-dbcb-4b95-e9a4-165b9bf9e808"
      },
      "source": [
        "data_bwd = load_data(path, 'data_lm.pkl', bs=bs, bptt=bptt, backwards=True)\n",
        "data_bwd.show_batch()\n"
      ],
      "execution_count": null,
      "outputs": [
        {
          "output_type": "display_data",
          "data": {
            "text/html": [
              "<table border=\"1\" class=\"dataframe\">\n",
              "  <thead>\n",
              "    <tr style=\"text-align: right;\">\n",
              "      <th>idx</th>\n",
              "      <th>text</th>\n",
              "    </tr>\n",
              "  </thead>\n",
              "  <tbody>\n",
              "    <tr>\n",
              "      <td>0</td>\n",
              "      <td>work firm game video say bolz mr movies music game video combine would xxunk xxunk similar show award international plan ea say also bolz mr say show play world gamers mechanism bedroom go kitchen go tell family control could idea</td>\n",
              "    </tr>\n",
              "    <tr>\n",
              "      <td>1</td>\n",
              "      <td>eight attention commission bring aid state possible matter swiftly complete analysis like would aid state contain plan confirm aspects certain verify xxunk mr say plan industrial serious present authorities italian possible swiftly carry want say barrot jacques commissioner transport however</td>\n",
              "    </tr>\n",
              "    <tr>\n",
              "      <td>2</td>\n",
              "      <td>hard xxunk ripe audiences xxunk interest capture others sims game ability phenomenal believe say xxunk inherently play learn xxunk false believe break would goal one game embrace teachers language particularly educationalists believe purushotma ravi game computer fear instead xxunk really</td>\n",
              "    </tr>\n",
              "    <tr>\n",
              "      <td>3</td>\n",
              "      <td>rat interest keep decision change rate vote bank xxbos live fan gadget problem kind capacities hold data vast feature number enormous gadgets array bewilder confront choices tough series face consumers downside want way almost communicate anything almost able gadget every</td>\n",
              "    </tr>\n",
              "    <tr>\n",
              "      <td>4</td>\n",
              "      <td>correction rule shortlived may deficits budget trade us massive worry currencies major lower push late spend dollar respite say economists february early meet next rat boost favour odds rat interest set xxunk committee market open federal say market financial xxunk</td>\n",
              "    </tr>\n",
              "  </tbody>\n",
              "</table>"
            ],
            "text/plain": [
              "<IPython.core.display.HTML object>"
            ]
          },
          "metadata": {
            "tags": []
          }
        }
      ]
    },
    {
      "cell_type": "markdown",
      "metadata": {
        "id": "SnvlqVbodxD5"
      },
      "source": [
        "## 7. Fine-tuning forward language model\n",
        "\n",
        "The vocabulary of the two datasets ( BBC and Wikipedia ) are slightly different, so when loading the weights, we take care to put the embedding weights at the right place, and we randomly initiliaze the embeddings for words in the BBC vocabulary that weren't in the wikitext-103 vocabulary of our pretrained model. \n",
        "\n",
        "This is all done in just 1st line of code below"
      ]
    },
    {
      "cell_type": "code",
      "metadata": {
        "id": "lKkgjG_fdhDT",
        "colab": {
          "base_uri": "https://localhost:8080/",
          "height": 34
        },
        "outputId": "2d407592-7a5b-4b06-86b1-bdbcf620cd7c"
      },
      "source": [
        "learn = language_model_learner(data_lm, AWD_LSTM , drop_mult=1.0)\n",
        "learn = learn.to_fp16(clip=0.1) # Speeds up training on a GPU"
      ],
      "execution_count": null,
      "outputs": [
        {
          "output_type": "stream",
          "text": [
            "Downloading https://s3.amazonaws.com/fast-ai-modelzoo/wt103-fwd.tgz\n"
          ],
          "name": "stdout"
        },
        {
          "output_type": "display_data",
          "data": {
            "text/html": [
              ""
            ],
            "text/plain": [
              "<IPython.core.display.HTML object>"
            ]
          },
          "metadata": {
            "tags": []
          }
        }
      ]
    },
    {
      "cell_type": "code",
      "metadata": {
        "colab": {
          "base_uri": "https://localhost:8080/"
        },
        "id": "vmtC0RIBfSSV",
        "outputId": "f92287c7-0f71-4d49-ed4a-4cb8a8ffbbcb"
      },
      "source": [
        "lr = 1e-2\n",
        "#lr *= bs/48\n",
        "lr /= 8\n",
        "lr"
      ],
      "execution_count": null,
      "outputs": [
        {
          "output_type": "execute_result",
          "data": {
            "text/plain": [
              "0.00125"
            ]
          },
          "metadata": {
            "tags": []
          },
          "execution_count": 18
        }
      ]
    },
    {
      "cell_type": "code",
      "metadata": {
        "colab": {
          "base_uri": "https://localhost:8080/",
          "height": 80
        },
        "id": "sbUX6vESe24n",
        "outputId": "96ee0538-f4ff-439a-a49c-2e68928d22e4"
      },
      "source": [
        "# The Learner object we get is frozen by default, which means we only train the embeddings at first\n",
        "learn.fit_one_cycle(1, lr, moms=(0.8,0.7), wd=0.1)\n"
      ],
      "execution_count": null,
      "outputs": [
        {
          "output_type": "display_data",
          "data": {
            "text/html": [
              "<table border=\"1\" class=\"dataframe\">\n",
              "  <thead>\n",
              "    <tr style=\"text-align: left;\">\n",
              "      <th>epoch</th>\n",
              "      <th>train_loss</th>\n",
              "      <th>valid_loss</th>\n",
              "      <th>accuracy</th>\n",
              "      <th>time</th>\n",
              "    </tr>\n",
              "  </thead>\n",
              "  <tbody>\n",
              "    <tr>\n",
              "      <td>0</td>\n",
              "      <td>7.713527</td>\n",
              "      <td>7.048201</td>\n",
              "      <td>0.060547</td>\n",
              "      <td>00:04</td>\n",
              "    </tr>\n",
              "  </tbody>\n",
              "</table>"
            ],
            "text/plain": [
              "<IPython.core.display.HTML object>"
            ]
          },
          "metadata": {
            "tags": []
          }
        }
      ]
    },
    {
      "cell_type": "code",
      "metadata": {
        "colab": {
          "base_uri": "https://localhost:8080/"
        },
        "id": "dsv_KRBSho8M",
        "outputId": "67558389-8d17-460f-e898-e28f41e0e1fb"
      },
      "source": [
        "print(2e-3)\n",
        "print(lr/5)"
      ],
      "execution_count": null,
      "outputs": [
        {
          "output_type": "stream",
          "text": [
            "0.002\n",
            "0.00025\n"
          ],
          "name": "stdout"
        }
      ]
    },
    {
      "cell_type": "code",
      "metadata": {
        "collapsed": true,
        "id": "h2MNvr83ftfa"
      },
      "source": [
        "# Then we unfreeze the model and fine-tune the whole thing for 10 epochs \n",
        "learn.unfreeze()\n",
        "learn.fit_one_cycle(18, lr/5, moms=(0.8,0.7), wd=0.1)\n"
      ],
      "execution_count": null,
      "outputs": []
    },
    {
      "cell_type": "code",
      "metadata": {
        "id": "vvzDABjsh1qh"
      },
      "source": [
        "# Once done we will save our encoder\n",
        "learn.save_encoder('fwd_enc')\n"
      ],
      "execution_count": null,
      "outputs": []
    },
    {
      "cell_type": "markdown",
      "metadata": {
        "id": "H2q8jHhrle1C"
      },
      "source": [
        "## 8. Fine-tuning backward language model\n",
        "\n",
        "We can't directly train a bidirectional RNN for language modeling, but we can always ensemble a forward and backward model. fastai provides a pretrained forward and backawrd model, so we can repeat the previous step to fine-tune the pretrained backward model. The command language_model_learner checks the data object you pass to automatically decide if it should use the pretrained forward or backward model."
      ]
    },
    {
      "cell_type": "code",
      "metadata": {
        "colab": {
          "base_uri": "https://localhost:8080/",
          "height": 34
        },
        "id": "SnopksLZk75l",
        "outputId": "fa3320af-e3ab-45e5-a6ba-61f08c19159a"
      },
      "source": [
        "learn = language_model_learner(data_bwd, AWD_LSTM)\n",
        "learn = learn.to_fp16(clip=0.1)"
      ],
      "execution_count": null,
      "outputs": [
        {
          "output_type": "stream",
          "text": [
            "Downloading https://s3.amazonaws.com/fast-ai-modelzoo/wt103-bwd.tgz\n"
          ],
          "name": "stdout"
        },
        {
          "output_type": "display_data",
          "data": {
            "text/html": [
              ""
            ],
            "text/plain": [
              "<IPython.core.display.HTML object>"
            ]
          },
          "metadata": {
            "tags": []
          }
        }
      ]
    },
    {
      "cell_type": "code",
      "metadata": {
        "colab": {
          "base_uri": "https://localhost:8080/",
          "height": 80
        },
        "id": "kVQfEjM5lzoQ",
        "outputId": "5241ff2c-58d6-4fbb-d46b-9277b15c6682"
      },
      "source": [
        "# The rest of process is same\n",
        "\n",
        "lr = 0.00125\n",
        "learn.fit_one_cycle(1, lr, moms=(0.8,0.7), wd=0.1)"
      ],
      "execution_count": null,
      "outputs": [
        {
          "output_type": "display_data",
          "data": {
            "text/html": [
              "<table border=\"1\" class=\"dataframe\">\n",
              "  <thead>\n",
              "    <tr style=\"text-align: left;\">\n",
              "      <th>epoch</th>\n",
              "      <th>train_loss</th>\n",
              "      <th>valid_loss</th>\n",
              "      <th>accuracy</th>\n",
              "      <th>time</th>\n",
              "    </tr>\n",
              "  </thead>\n",
              "  <tbody>\n",
              "    <tr>\n",
              "      <td>0</td>\n",
              "      <td>7.874811</td>\n",
              "      <td>7.089356</td>\n",
              "      <td>0.052197</td>\n",
              "      <td>00:04</td>\n",
              "    </tr>\n",
              "  </tbody>\n",
              "</table>"
            ],
            "text/plain": [
              "<IPython.core.display.HTML object>"
            ]
          },
          "metadata": {
            "tags": []
          }
        }
      ]
    },
    {
      "cell_type": "code",
      "metadata": {
        "collapsed": true,
        "id": "G_nWvZctmAgD"
      },
      "source": [
        "learn.unfreeze()\n",
        "learn.fit_one_cycle(15, lr/5, moms=(0.8,0.7), wd=0.1)\n"
      ],
      "execution_count": null,
      "outputs": []
    },
    {
      "cell_type": "code",
      "metadata": {
        "id": "AxH9Tfb5mLgR"
      },
      "source": [
        "learn.save_encoder('bwd_enc')\n"
      ],
      "execution_count": null,
      "outputs": []
    },
    {
      "cell_type": "markdown",
      "metadata": {
        "id": "WVLhZFLApwvg"
      },
      "source": [
        "## 9. Creating Data for forward Classifier\n",
        "\n",
        "The classifier is a model that is a bit heavier, so we have lower the batch size.\n"
      ]
    },
    {
      "cell_type": "code",
      "metadata": {
        "id": "0zw3PYfnmivV"
      },
      "source": [
        "bs = 32"
      ],
      "execution_count": null,
      "outputs": []
    },
    {
      "cell_type": "code",
      "metadata": {
        "colab": {
          "base_uri": "https://localhost:8080/",
          "height": 122
        },
        "id": "9GjdIv_eqGXf",
        "outputId": "9f0576d6-19a6-46c4-96f9-3684b54f1578"
      },
      "source": [
        "data_clas = TextClasDataBunch.from_df(path = \"\", train_df = df_train, valid_df = df_val, vocab=data_lm.train_ds.vocab, bs=bs)\n",
        "\n",
        "data_clas.save('data_clas.pkl')\n"
      ],
      "execution_count": null,
      "outputs": [
        {
          "output_type": "display_data",
          "data": {
            "text/html": [
              ""
            ],
            "text/plain": [
              "<IPython.core.display.HTML object>"
            ]
          },
          "metadata": {
            "tags": []
          }
        },
        {
          "output_type": "stream",
          "text": [
            "/usr/local/lib/python3.7/dist-packages/fastai/core.py:302: VisibleDeprecationWarning: Creating an ndarray from ragged nested sequences (which is a list-or-tuple of lists-or-tuples-or ndarrays with different lengths or shapes) is deprecated. If you meant to do this, you must specify 'dtype=object' when creating the ndarray\n",
            "  return np.array(a, dtype=dtype, **kwargs)\n"
          ],
          "name": "stderr"
        },
        {
          "output_type": "display_data",
          "data": {
            "text/html": [
              ""
            ],
            "text/plain": [
              "<IPython.core.display.HTML object>"
            ]
          },
          "metadata": {
            "tags": []
          }
        },
        {
          "output_type": "stream",
          "text": [
            "/usr/local/lib/python3.7/dist-packages/numpy/core/_asarray.py:83: VisibleDeprecationWarning: Creating an ndarray from ragged nested sequences (which is a list-or-tuple of lists-or-tuples-or ndarrays with different lengths or shapes) is deprecated. If you meant to do this, you must specify 'dtype=object' when creating the ndarray\n",
            "  return array(a, dtype, copy=False, order=order)\n",
            "<string>:6: VisibleDeprecationWarning: Creating an ndarray from ragged nested sequences (which is a list-or-tuple of lists-or-tuples-or ndarrays with different lengths or shapes) is deprecated. If you meant to do this, you must specify 'dtype=object' when creating the ndarray\n"
          ],
          "name": "stderr"
        }
      ]
    },
    {
      "cell_type": "code",
      "metadata": {
        "colab": {
          "base_uri": "https://localhost:8080/",
          "height": 428
        },
        "id": "S2St0EIzraxV",
        "outputId": "77495d82-a84f-4237-c661-7ca93e84af27"
      },
      "source": [
        "del(data_clas)\n",
        "data_clas = load_data(path, 'data_clas.pkl', bs=bs)\n",
        "data_clas.show_batch()\n"
      ],
      "execution_count": null,
      "outputs": [
        {
          "output_type": "stream",
          "text": [
            "/usr/local/lib/python3.7/dist-packages/numpy/core/_asarray.py:83: VisibleDeprecationWarning: Creating an ndarray from ragged nested sequences (which is a list-or-tuple of lists-or-tuples-or ndarrays with different lengths or shapes) is deprecated. If you meant to do this, you must specify 'dtype=object' when creating the ndarray\n",
            "  return array(a, dtype, copy=False, order=order)\n",
            "<string>:6: VisibleDeprecationWarning: Creating an ndarray from ragged nested sequences (which is a list-or-tuple of lists-or-tuples-or ndarrays with different lengths or shapes) is deprecated. If you meant to do this, you must specify 'dtype=object' when creating the ndarray\n"
          ],
          "name": "stderr"
        },
        {
          "output_type": "display_data",
          "data": {
            "text/html": [
              "<table border=\"1\" class=\"dataframe\">\n",
              "  <thead>\n",
              "    <tr style=\"text-align: right;\">\n",
              "      <th>text</th>\n",
              "      <th>target</th>\n",
              "    </tr>\n",
              "  </thead>\n",
              "  <tbody>\n",
              "    <tr>\n",
              "      <td>xxbos lose online game online role play game timeconsuming xxunk flight reality people take fantasy live seriously video game world warcraft hit shop europe last week fan write bbc website express delight offer warn addiction game like far costly time substance could impair keep track time write travis xxunk texas comment xxunk game good go get way could limit hours spend play write charles xxunk england strike worry tone massively</td>\n",
              "      <td>tech</td>\n",
              "    </tr>\n",
              "    <tr>\n",
              "      <td>xxbos apple laptop greatest gadget apple powerbook choose greatest gadget time us magazine mobile pc laptop choose one first lightweight portable computers help define layout future notebook pcs magazine compile alltime top list gadgets include sony walkman number three zenith remote control two gadgets need move part andor electronics warrant inclusion magazine staff compile list specify gadgets also need selfcontained apparatus use subset another device general include items potentially mobile</td>\n",
              "      <td>tech</td>\n",
              "    </tr>\n",
              "    <tr>\n",
              "      <td>xxbos call action internet scam phone company enough warn customers internet roguedialling scam accord premium phone line regulator icstis receive complaints recent months dialup internet connections divert premium rate number without users knowledge phone company refuse pay compensation say call must pay must warn people earlier possible fraud icstis say people use dialup connections affect scam without realise program download divert internet call via premium phone line victims often fail</td>\n",
              "      <td>tech</td>\n",
              "    </tr>\n",
              "    <tr>\n",
              "      <td>xxbos apple laptop greatest gadget apple powerbook choose greatest gadget time us magazine mobile pc laptop choose one first lightweight portable computers help define layout future notebook pcs magazine compile alltime top list gadgets include sony walkman number three zenith remote control two gadgets need move part andor electronics warrant inclusion magazine specify gadgets also need selfcontained apparatus use subset another device general include items potentially mobile say magazine end</td>\n",
              "      <td>tech</td>\n",
              "    </tr>\n",
              "    <tr>\n",
              "      <td>xxbos new console promise big problems make game future console require graphic artists money industry conference tell sony microsoft nintendo debut new console annual e game expo los angeles may socalled next generation machine faster current console capable display much xxunk visuals gamers make better immersive game prerecord video slot microsoft keynote address game developers conference hold last week san francisco xxunk director jam cameron reveal make game tandem next</td>\n",
              "      <td>tech</td>\n",
              "    </tr>\n",
              "  </tbody>\n",
              "</table>"
            ],
            "text/plain": [
              "<IPython.core.display.HTML object>"
            ]
          },
          "metadata": {
            "tags": []
          }
        }
      ]
    },
    {
      "cell_type": "markdown",
      "metadata": {
        "id": "pLlKlRunisqN"
      },
      "source": [
        "## 10. Creating Data for backward Classifier\n"
      ]
    },
    {
      "cell_type": "code",
      "metadata": {
        "colab": {
          "base_uri": "https://localhost:8080/",
          "height": 445
        },
        "id": "bbvgYt6irk4V",
        "outputId": "85862826-c324-4e0c-b699-e8157b347599"
      },
      "source": [
        "# Like before we will load Data for Backward Model\n",
        "data_clas_bwd = load_data(path, 'data_clas.pkl', bs=bs, backwards=True)\n",
        "data_clas_bwd.show_batch()\n"
      ],
      "execution_count": null,
      "outputs": [
        {
          "output_type": "stream",
          "text": [
            "/usr/local/lib/python3.7/dist-packages/numpy/core/_asarray.py:83: VisibleDeprecationWarning: Creating an ndarray from ragged nested sequences (which is a list-or-tuple of lists-or-tuples-or ndarrays with different lengths or shapes) is deprecated. If you meant to do this, you must specify 'dtype=object' when creating the ndarray\n",
            "  return array(a, dtype, copy=False, order=order)\n",
            "<string>:6: VisibleDeprecationWarning: Creating an ndarray from ragged nested sequences (which is a list-or-tuple of lists-or-tuples-or ndarrays with different lengths or shapes) is deprecated. If you meant to do this, you must specify 'dtype=object' when creating the ndarray\n"
          ],
          "name": "stderr"
        },
        {
          "output_type": "display_data",
          "data": {
            "text/html": [
              "<table border=\"1\" class=\"dataframe\">\n",
              "  <thead>\n",
              "    <tr style=\"text-align: right;\">\n",
              "      <th>text</th>\n",
              "      <th>target</th>\n",
              "    </tr>\n",
              "  </thead>\n",
              "  <tbody>\n",
              "    <tr>\n",
              "      <td>xxunk days xxunk xxunk xxrep xxunk game online ultima term half school kid hours meaningless absolutely universe online worry xxunk make trouble issue overcome swiftly world notice machine get need xxunk people worse get decline expect health persons damage time hours screen computer star proof medical xxunk unless children let know parent think nt do play card credit need game mmorpg xxunk adult end hours play gamers generation younger concern</td>\n",
              "      <td>tech</td>\n",
              "    </tr>\n",
              "    <tr>\n",
              "      <td>win deserve apple congratulations use cumbersome uncomfortable inaccurate invariably use today market notebook every trackpad useless largely way give trackball demise dishearten particularly pb like offer newest apple even notebooks modern wish live program taste give rubbish game tv plug k spectrum sinclair model nokia probably list high phone mobile put live earn world move never would beauty little without spectrum sinclair back would around info carry way practical first</td>\n",
              "      <td>tech</td>\n",
              "    </tr>\n",
              "    <tr>\n",
              "      <td>scam majority vast prevent date software firewall antivirus ensure responsibility take users home connection attempt sound hear modem connect nothing broadband upgrade already god thank scam target also back years write operator telecoms easier far limit would amount dispute least usage fraudulent limit number rate premium legitimate use could way lift provider contact would call rate premium say cap monthly automatic losses portion xxunk crime profit vat government supplier steal</td>\n",
              "      <td>tech</td>\n",
              "    </tr>\n",
              "    <tr>\n",
              "      <td>win deserve apple congratulations use cumbersome uncomfortable inaccurate invariably use today market notebook every trackpad useless largely way give trackball demise dishearten particularly pb like offer newest apple even notebooks modern wish live program taste give rubbish game tv plug k spectrum sinclair model nokia probably list high phone mobile put live earn world move never would beauty little without spectrum sinclair back would around info carry way practical first</td>\n",
              "      <td>tech</td>\n",
              "    </tr>\n",
              "    <tr>\n",
              "      <td>magazine develop editor xxunk xxunk console handheld psp upcoming sony quality comparable game run capable would phone mobile predict batter mr team development person mobile ea create game race speed need version first months next game mobile release plan ea franchise popular versions mobile release market dominate plan ea say admit batter mr business ea check time last phone game dismissive arts electronic recently publisher game biggest arts electronic division</td>\n",
              "      <td>tech</td>\n",
              "    </tr>\n",
              "  </tbody>\n",
              "</table>"
            ],
            "text/plain": [
              "<IPython.core.display.HTML object>"
            ]
          },
          "metadata": {
            "tags": []
          }
        }
      ]
    },
    {
      "cell_type": "markdown",
      "metadata": {
        "id": "m6MUkBX4sHtp"
      },
      "source": [
        "## 11. Training forward Classifier \n",
        "\n",
        "The classifier needs a little less dropout, so we pass drop_mult=0.5 to multiply all the dropouts by this amount (it's easier than adjusting all the five different values manually). We don't load the pretrained model, but instead our fine-tuned encoder from the previous section."
      ]
    },
    {
      "cell_type": "code",
      "metadata": {
        "colab": {
          "base_uri": "https://localhost:8080/"
        },
        "id": "vonUvt1Jr2S6",
        "outputId": "e39e8cb4-7815-400f-82de-01bc8f4d52e0"
      },
      "source": [
        "learn = text_classifier_learner(data_clas, AWD_LSTM, drop_mult=0.5, pretrained=False)\n",
        "learn.load_encoder('fwd_enc')"
      ],
      "execution_count": null,
      "outputs": [
        {
          "output_type": "execute_result",
          "data": {
            "text/plain": [
              "RNNLearner(data=TextClasDataBunch;\n",
              "\n",
              "Train: LabelList (819 items)\n",
              "x: TextList\n",
              "xxbos insurance boss plead guilty another three us insurance executives plead guilty fraud charge stem ongoing investigation industry xxunk two executives american international group aig one marsh mclennan latest investigation new york attorney general eliot spitzer obtain nine guilty pleas highest rank executive plead guilty tuesday former marsh senior vice president joshua bewlay admit one felony count scheme defraud face four years prison marsh spokeswoman say mr bewlay longer company mr spitzer investigation us insurance industry look whether company rig bid fix price last month marsh agree pay settle lawsuit file mr spitzer settlement neither admit deny allegations,xxbos long life promise laptop pcs scientists work ways ensure laptops stay power entire work day build batteries new chemical mix could boost power significantly say industry experts change include everything way chip laptops make trick reduce power consumption display ever since laptops appear amount time last recharge frustration users survey carry forrester research find xxunk battery life complain feature laptops focus back performance feature say mike trainor chief mobile technology xxunk chip giant intel battery life stick two hours say laptops last much longer case improve battery life squeeze lithium ion power pack explain change need get holy grail laptop run eight hours need recharge lithium ion never go get say industry do great job xxunk possible energy storage technology new battery xxunk promise cram power space say mr trainor though work still need do get successfully lab manufacture sceptical fuel cells would develop quick enough take solid batteries even though potential produce several time energy lithium ion power pack fuel cells need pump xxunk xxunk chamber say mini energy plant need shrink shrink shrink intel work component makers test energy consumption part inside laptop find ways make less power hungry work lead creation mobile pc extend battery life xxunk work group share information build notebooks xxunk power improvements power use come simply components chip shrink say mr trainor intel also change way create xxunk silicon reduce power need larger scale say mr trainor improvements way voltage regulators make reduce amount power lose heat make notebook energy efficient also say mr trainor research do ways cut energy consumption display currently biggest power xxunk laptop many laptop makers commit create inch screen draw three watts power far power consumption level screen current notebooks get close eight hours place people see xxunk valuable industry deliver mr trainor say,xxbos news corp make bn fox offer news corporation seek buy minority investors fox entertainment group broadcast subsidiary bn bn media giant run rupert murdoch own share company home fox television network th century fox film studio move follow news corp decision register business us th century fox recent film release include heart xxunk robot fox put hit tv series term offer minority fox shareholders receive news corp share return fox share hold analysts say decision list news corp us result firm share trade new york rather sydney xxunk need retain separate stock market list fox entertainment share news corp investors vote october approve transfer company corporate xxunk australia us state delaware move design help news corp attract investment largest us financial institutions make easier raise capital fox entertainment group generate revenues bn last year news corp share fell cents share offer announce fox share cents,xxbos sony psp handheld console hit us latest handheld game gadget sony playstation portable go sale us thursday entertainment device also store image music video intend compete nintendo ds release earlier month uk gamers queue outside shop across us get hand gadget cost first million sell come spiderman film umd sony disc format device psp link others multiplayer game via wireless connection sony tout machine walkman st century sell units japan since launch last year face stiff competition nintendo ds sell gamecube first days release europe allow multiplayer game air nintendo dominate handheld market share market us alone gizmondo combine media player phone game gadget also go sale uk last week hop take share handheld game market story psp game device much portable entertainment device say michael xxunk analyst xxunk morgan securities tell reuters news agency expect sony sell million psps enough time rival apple ipod date psp release europe yet sony promise million units ready us launch fear demand may meet also say expect ship three million psps worldwide end fiscal year end march machine european launch put back months last week order make sure enough devices ready us launch well satisfy japanese market psp almost much process power playstation console hundreds gamers gather us shop wait hours first get hand gadget spokesman one us shop say expect device sell first day game mini console include xxunk academy formula one xxunk pure fire movie studios include lions gate entertainment disney also announce forthcoming film title make available umd format,xxbos marsh executive guilty xxunk executive us insurance firm marsh mclennan plead guilty criminal charge connection ongoing fraud bidrigging probe new york attorney general elliot spitzer say senior vice president robert stearns plead guilty scheme defraud offence carry sentence months four years state prison mr spitzer office add mr stearns also agree testify future case industry inquiry xxunk development marsh say statement company add would continue cooperate case add commit resolve company legal issue serve clients highest standards transparency ethics accord statement mr spitzer office marsh executive admit instruct insurance company submit noncompetitive bid insurance business bid xxunk marsh clients false fraudulent xxunk practice marsh allow determine insurers business clients control insurance market mr spitzer office add also protect incumbent insurers business renewal help marsh maximise fee statement say one case email show mr stearns instruct colleague solicit noncompetitive b quote aig higher premium restrictive coverage fix bid way would support present provider xxunk company also still examine us stock market regulator securities exchange commission sec late last month sec ask information transactions involve holders firm share\n",
              "y: CategoryList\n",
              "business,tech,business,tech,business\n",
              "Path: .;\n",
              "\n",
              "Valid: LabelList (92 items)\n",
              "x: TextList\n",
              "xxbos microsoft set sight spyware windows users could soon pay microsoft keep pcs free spyware follow takeover antispyware firm giant microsoft say would soon release xxunk strip machine irritate program although initially free microsoft rule charge people want keep xxunk date survey show almost every windows pc infest spyware program everything bombard users advert steal login data microsoft say beta version xxunk clean windows machine available within days design pcs run windows xp utility clean spyware program constantly monitor happen pc regularly update catch latest variants many microsoft security boost program firewall windows xp give away free mike xxunk vice president microsoft security business unit say still work price license issue charge future versions discount say come plan roll say plan could turn lucrative one microsoft recent survey earthlink webroot find pcs infest surreptitious software average one harbour separate spyware program currently users want protection spyware turn free program spybot adaware spyware come many form benign exploit xxunk browse habit install subject users unwanted advert form hijack net browser settings force people view page would otherwise never visit xxunk spyware watch everything people pc steal login information personal data microsoft announcement spyware come buy small new york software firm giant company software term acquisition disclose,xxbos mix reaction man utd offer share manchester unite xxunk monday follow new offer malcolm glazer board man utd expect meet early week discuss latest proposal us tycoon value club bn manchester unite reveal sunday receive detail proposal mr glazer senior source club tell bbc time different board oblige consider deal man utd supporters club urge club reject new deal manchester unite past present xxunk eric xxunk xxunk xxunk xxunk club manager sir alex ferguson lend back supporters group shareholders unite speak bid spokesman supporters club say see difference compare mr glazer previous proposals less debt bring money club use money buy mr glazer latest move lead mr glazer two sons avi joel accord financial time proposal receive david gill unite chief executive end last week pitch p share david xxunk head uk equities standard life investments say believe well fund p share bid would enough mr glazer take control club think anything manchester unite fan tell bbc complain xxunk may want go get us tycoon woo club last months approach unite board detail proposals confirm mr glazer own tampa bay buccaneer team hop lead formal bid accept believe increase amount equity new proposal though clear much proposal succeed need support unite largest shareholders irish xxunk tycoons jp mcmanus john magnier unite cubic expression investment vehicle mr glazer family hold stake yet know whether mr mcmanus mr magnier would support glazer bid nm xxunk investment bank advise mr glazer accord financial time previous adviser jpmorgan quit last year mr glazer go ahead vote appointment three unite directors board advice ft say think jp morgan may still role finance mr glazer latest financial proposal,xxbos xxunk chief leave company share train xxunk giant xxunk fall year low follow departure chief executive two members board paul xxunk also xxunk president leave company amid ongoing restructure xxunk xxunk part family control xxunk firm take role ceo newly create management structure analysts say xxunk seem stem xxunk dispute mr xxunk xxunk company begin january plan cut worldwide workforce almost third announce firm xxunk division defence service unit also sell xxunk start development new aircraft seat passengers mr xxunk indicate want stay world top train maker third largest manufacturer civil aircraft restructure complete xxunk face decline share price profit earlier month firm say earn third quarter profit year ago understand board concern would longterm need develop execute strategies need xxunk management structure time mr xxunk say statement monday xxunk say restructure plan draw mr xxunk would continue implement share xxunk lose canadian cents news canadian dollars rally canadian dollars,xxbos businesses fail plan xxunk company fail draw plan cope hivaids affect people country new research say find come report publish thursday world economic forum harvard un aid agency company respond xxunk social business threats say dr xxunk taylor head wef global health initiative nearly business leaders countries survey business hivaids commitment action dr taylor describe level action take businesses reveal report little late issue highlight business world leaders world economic forum meet davos switzerland next week wef report show despite fact people contract hivaids every day concern among businesses drop last months policies place address disease could business leaders survey say estimate xxunk xxunk among staff un programme tackle aid xxunk point clear strategy deal hivaids good investment well socially responsible one company plan xxunk international mine company estimate xxunk xxunk among strong southern african workforce last two years company implement extensive voluntary counsel test xxunk infection couple xxunk xxunk employees progress aid employees access remain treatment well return normal work effective action hivaids xxunk good business management lead profitable sustainable operations say brian brink senior vicepresident health xxunk company encourage workers know xxunk status make routine monitor blood pressure xxunk say provide access treatment critical part across subsaharan africa even countries xxunk xxunk around company formal hivaids policies place accord report gap even wider china ethiopia india nigeria russia socalled next wave countries predict experience highest number new hivaids case worldwide report add important build block understand business community experience hivaids xxunk whether react say david xxunk professor economics xxunk harvard school public health wef report conclude businesses need understand exposure hivaids risk come good local practice manage key priority high xxunk settings say wef establish policy base xxunk confidentiality,xxbos bbc lead interactive bafta win bbc national theatre lead field year interactive bafta award national theatre xxunk website pick prize best learn well top xxunk site bbc collect three award include best online entertainment xxunk guide xxunk adventure game spook interactive take best interactive tv prize annual award recognise best digital media bbc sport interactive fight competition xxunk xxunk guardian take home best news sport xxunk coverage england exit euro recognise groundbreaking use xxunk bafta grant dean chair bafta interactive entertainment committee say entrants outstanding quality judge enormously difficult without doubt landmark year bafta interactive award add many top award year go company commonly associate traditional entertainment show gap new media film television close award give different categories include interactive tv film music design well technical social innovation london ceremony top music award give xxunk xxunk mobile music xxunk design let people write edit share xxunk warner bros give two prize inspire efforts film dvd interactivity xxunk collection beat xxunk really bend like beckham xxunk dead day today dvd category xxunk best film elsewhere xxunk clothe designer alexander xxunk take xxunk xxunk website award run since british academy film television decide split separate game interactive xxunk tuesday halflife dominate game prize collect six xxunk include best game best online game\n",
              "y: CategoryList\n",
              "tech,business,business,business,tech\n",
              "Path: .;\n",
              "\n",
              "Test: None, model=SequentialRNN(\n",
              "  (0): MultiBatchEncoder(\n",
              "    (module): AWD_LSTM(\n",
              "      (encoder): Embedding(8768, 400, padding_idx=1)\n",
              "      (encoder_dp): EmbeddingDropout(\n",
              "        (emb): Embedding(8768, 400, padding_idx=1)\n",
              "      )\n",
              "      (rnns): ModuleList(\n",
              "        (0): WeightDropout(\n",
              "          (module): LSTM(400, 1152, batch_first=True)\n",
              "        )\n",
              "        (1): WeightDropout(\n",
              "          (module): LSTM(1152, 1152, batch_first=True)\n",
              "        )\n",
              "        (2): WeightDropout(\n",
              "          (module): LSTM(1152, 400, batch_first=True)\n",
              "        )\n",
              "      )\n",
              "      (input_dp): RNNDropout()\n",
              "      (hidden_dps): ModuleList(\n",
              "        (0): RNNDropout()\n",
              "        (1): RNNDropout()\n",
              "        (2): RNNDropout()\n",
              "      )\n",
              "    )\n",
              "  )\n",
              "  (1): PoolingLinearClassifier(\n",
              "    (layers): Sequential(\n",
              "      (0): BatchNorm1d(1200, eps=1e-05, momentum=0.1, affine=True, track_running_stats=True)\n",
              "      (1): Dropout(p=0.2, inplace=False)\n",
              "      (2): Linear(in_features=1200, out_features=50, bias=True)\n",
              "      (3): ReLU(inplace=True)\n",
              "      (4): BatchNorm1d(50, eps=1e-05, momentum=0.1, affine=True, track_running_stats=True)\n",
              "      (5): Dropout(p=0.1, inplace=False)\n",
              "      (6): Linear(in_features=50, out_features=2, bias=True)\n",
              "    )\n",
              "  )\n",
              "), opt_func=functools.partial(<class 'torch.optim.adam.Adam'>, betas=(0.9, 0.99)), loss_func=FlattenedLoss of CrossEntropyLoss(), metrics=[<function accuracy at 0x7f2d1ccd1a70>], true_wd=True, bn_wd=True, wd=0.01, train_bn=True, path=PosixPath('/content'), model_dir='models', callback_fns=[functools.partial(<class 'fastai.basic_train.Recorder'>, add_time=True, silent=False)], callbacks=[RNNTrainer\n",
              "learn: ...\n",
              "alpha: 2.0\n",
              "beta: 1.0], layer_groups=[Sequential(\n",
              "  (0): Embedding(8768, 400, padding_idx=1)\n",
              "  (1): EmbeddingDropout(\n",
              "    (emb): Embedding(8768, 400, padding_idx=1)\n",
              "  )\n",
              "), Sequential(\n",
              "  (0): WeightDropout(\n",
              "    (module): LSTM(400, 1152, batch_first=True)\n",
              "  )\n",
              "  (1): RNNDropout()\n",
              "), Sequential(\n",
              "  (0): WeightDropout(\n",
              "    (module): LSTM(1152, 1152, batch_first=True)\n",
              "  )\n",
              "  (1): RNNDropout()\n",
              "), Sequential(\n",
              "  (0): WeightDropout(\n",
              "    (module): LSTM(1152, 400, batch_first=True)\n",
              "  )\n",
              "  (1): RNNDropout()\n",
              "), Sequential(\n",
              "  (0): PoolingLinearClassifier(\n",
              "    (layers): Sequential(\n",
              "      (0): BatchNorm1d(1200, eps=1e-05, momentum=0.1, affine=True, track_running_stats=True)\n",
              "      (1): Dropout(p=0.2, inplace=False)\n",
              "      (2): Linear(in_features=1200, out_features=50, bias=True)\n",
              "      (3): ReLU(inplace=True)\n",
              "      (4): BatchNorm1d(50, eps=1e-05, momentum=0.1, affine=True, track_running_stats=True)\n",
              "      (5): Dropout(p=0.1, inplace=False)\n",
              "      (6): Linear(in_features=50, out_features=2, bias=True)\n",
              "    )\n",
              "  )\n",
              ")], add_time=True, silent=False)"
            ]
          },
          "metadata": {
            "tags": []
          },
          "execution_count": 31
        }
      ]
    },
    {
      "cell_type": "markdown",
      "metadata": {
        "id": "hmXF7cZpsv9K"
      },
      "source": [
        "Then we train the model using gradual unfreezing (partially training the model from everything but the classification head frozen to the whole model trianing by unfreezing one layer at a time) and differential learning rate (deeper layer gets a lower learning rate)."
      ]
    },
    {
      "cell_type": "code",
      "metadata": {
        "colab": {
          "base_uri": "https://localhost:8080/"
        },
        "id": "h2H5fiBYsmB5",
        "outputId": "c79722bd-68b7-4702-ce2d-494680755074"
      },
      "source": [
        "lr = 2e-2\n",
        "lr *= bs/48\n",
        "lr"
      ],
      "execution_count": null,
      "outputs": [
        {
          "output_type": "execute_result",
          "data": {
            "text/plain": [
              "0.013333333333333332"
            ]
          },
          "metadata": {
            "tags": []
          },
          "execution_count": 34
        }
      ]
    },
    {
      "cell_type": "code",
      "metadata": {
        "colab": {
          "base_uri": "https://localhost:8080/",
          "height": 151
        },
        "id": "918eFkOXtQtP",
        "outputId": "4ed99a9d-8127-42c2-8588-9d89725ad268"
      },
      "source": [
        "learn.fit_one_cycle(1, lr, moms=(0.8,0.7), wd=0.1)\n"
      ],
      "execution_count": null,
      "outputs": [
        {
          "output_type": "display_data",
          "data": {
            "text/html": [
              "<table border=\"1\" class=\"dataframe\">\n",
              "  <thead>\n",
              "    <tr style=\"text-align: left;\">\n",
              "      <th>epoch</th>\n",
              "      <th>train_loss</th>\n",
              "      <th>valid_loss</th>\n",
              "      <th>accuracy</th>\n",
              "      <th>time</th>\n",
              "    </tr>\n",
              "  </thead>\n",
              "  <tbody>\n",
              "    <tr>\n",
              "      <td>0</td>\n",
              "      <td>0.247073</td>\n",
              "      <td>0.093189</td>\n",
              "      <td>0.967391</td>\n",
              "      <td>00:04</td>\n",
              "    </tr>\n",
              "  </tbody>\n",
              "</table>"
            ],
            "text/plain": [
              "<IPython.core.display.HTML object>"
            ]
          },
          "metadata": {
            "tags": []
          }
        },
        {
          "output_type": "stream",
          "text": [
            "/usr/local/lib/python3.7/dist-packages/numpy/core/_asarray.py:83: VisibleDeprecationWarning: Creating an ndarray from ragged nested sequences (which is a list-or-tuple of lists-or-tuples-or ndarrays with different lengths or shapes) is deprecated. If you meant to do this, you must specify 'dtype=object' when creating the ndarray\n",
            "  return array(a, dtype, copy=False, order=order)\n",
            "<string>:6: VisibleDeprecationWarning: Creating an ndarray from ragged nested sequences (which is a list-or-tuple of lists-or-tuples-or ndarrays with different lengths or shapes) is deprecated. If you meant to do this, you must specify 'dtype=object' when creating the ndarray\n"
          ],
          "name": "stderr"
        }
      ]
    },
    {
      "cell_type": "code",
      "metadata": {
        "colab": {
          "base_uri": "https://localhost:8080/",
          "height": 151
        },
        "id": "PYUu3yi8wQO6",
        "outputId": "a45ec6f5-0b52-443a-c85c-212f7f13a4ae"
      },
      "source": [
        "learn.freeze_to(-2)\n",
        "lr /= 2\n",
        "learn.fit_one_cycle(1, slice(lr/(2.6**4),lr), moms=(0.8,0.7), wd=0.1)\n"
      ],
      "execution_count": null,
      "outputs": [
        {
          "output_type": "display_data",
          "data": {
            "text/html": [
              "<table border=\"1\" class=\"dataframe\">\n",
              "  <thead>\n",
              "    <tr style=\"text-align: left;\">\n",
              "      <th>epoch</th>\n",
              "      <th>train_loss</th>\n",
              "      <th>valid_loss</th>\n",
              "      <th>accuracy</th>\n",
              "      <th>time</th>\n",
              "    </tr>\n",
              "  </thead>\n",
              "  <tbody>\n",
              "    <tr>\n",
              "      <td>0</td>\n",
              "      <td>0.243828</td>\n",
              "      <td>0.075982</td>\n",
              "      <td>0.967391</td>\n",
              "      <td>00:05</td>\n",
              "    </tr>\n",
              "  </tbody>\n",
              "</table>"
            ],
            "text/plain": [
              "<IPython.core.display.HTML object>"
            ]
          },
          "metadata": {
            "tags": []
          }
        },
        {
          "output_type": "stream",
          "text": [
            "/usr/local/lib/python3.7/dist-packages/numpy/core/_asarray.py:83: VisibleDeprecationWarning: Creating an ndarray from ragged nested sequences (which is a list-or-tuple of lists-or-tuples-or ndarrays with different lengths or shapes) is deprecated. If you meant to do this, you must specify 'dtype=object' when creating the ndarray\n",
            "  return array(a, dtype, copy=False, order=order)\n",
            "<string>:6: VisibleDeprecationWarning: Creating an ndarray from ragged nested sequences (which is a list-or-tuple of lists-or-tuples-or ndarrays with different lengths or shapes) is deprecated. If you meant to do this, you must specify 'dtype=object' when creating the ndarray\n"
          ],
          "name": "stderr"
        }
      ]
    },
    {
      "cell_type": "code",
      "metadata": {
        "colab": {
          "base_uri": "https://localhost:8080/"
        },
        "id": "DwMRGbhUwkzB",
        "outputId": "23b205e0-ecc2-4405-deba-159329f24acc"
      },
      "source": [
        "slice(lr/(2.6**4),lr)"
      ],
      "execution_count": null,
      "outputs": [
        {
          "output_type": "execute_result",
          "data": {
            "text/plain": [
              "slice(0.00014588658193573985, 0.006666666666666666, None)"
            ]
          },
          "metadata": {
            "tags": []
          },
          "execution_count": 37
        }
      ]
    },
    {
      "cell_type": "code",
      "metadata": {
        "id": "avfEIPvtyEFz"
      },
      "source": [
        "import torch\n",
        "torch.cuda.empty_cache() # To avoid CUDA GPU memory errors"
      ],
      "execution_count": null,
      "outputs": []
    },
    {
      "cell_type": "code",
      "metadata": {
        "id": "7_bZVaftyKoh"
      },
      "source": [
        "import gc\n",
        "variables = gc.collect()\n",
        "del variables\n"
      ],
      "execution_count": null,
      "outputs": []
    },
    {
      "cell_type": "code",
      "metadata": {
        "colab": {
          "base_uri": "https://localhost:8080/",
          "height": 120
        },
        "id": "INC3bS7CyOnu",
        "outputId": "a47389aa-dd24-4b4f-b3c2-b4f76118858b"
      },
      "source": [
        "torch.cuda.memory_summary(device=None, abbreviated=False)"
      ],
      "execution_count": null,
      "outputs": [
        {
          "output_type": "execute_result",
          "data": {
            "application/vnd.google.colaboratory.intrinsic+json": {
              "type": "string"
            },
            "text/plain": [
              "'|===========================================================================|\\n|                  PyTorch CUDA memory summary, device ID 0                 |\\n|---------------------------------------------------------------------------|\\n|            CUDA OOMs: 0            |        cudaMalloc retries: 0         |\\n|===========================================================================|\\n|        Metric         | Cur Usage  | Peak Usage | Tot Alloc  | Tot Freed  |\\n|---------------------------------------------------------------------------|\\n| Allocated memory      |  222558 KB |    2822 MB |    4991 GB |    4991 GB |\\n|       from large pool |  220842 KB |    2806 MB |    4847 GB |    4847 GB |\\n|       from small pool |    1716 KB |      16 MB |     144 GB |     144 GB |\\n|---------------------------------------------------------------------------|\\n| Active memory         |  222558 KB |    2822 MB |    4991 GB |    4991 GB |\\n|       from large pool |  220842 KB |    2806 MB |    4847 GB |    4847 GB |\\n|       from small pool |    1716 KB |      16 MB |     144 GB |     144 GB |\\n|---------------------------------------------------------------------------|\\n| GPU reserved memory   |  610304 KB |    3574 MB |    3574 MB |    2978 MB |\\n|       from large pool |  602112 KB |    3556 MB |    3556 MB |    2968 MB |\\n|       from small pool |    8192 KB |      18 MB |      18 MB |      10 MB |\\n|---------------------------------------------------------------------------|\\n| Non-releasable memory |  248482 KB |     952 MB |    3319 GB |    3319 GB |\\n|       from large pool |  242006 KB |     948 MB |    3173 GB |    3173 GB |\\n|       from small pool |    6476 KB |       7 MB |     146 GB |     146 GB |\\n|---------------------------------------------------------------------------|\\n| Allocations           |      75    |     334    |    1364 K  |    1364 K  |\\n|       from large pool |      19    |     205    |     426 K  |     426 K  |\\n|       from small pool |      56    |     131    |     938 K  |     938 K  |\\n|---------------------------------------------------------------------------|\\n| Active allocs         |      75    |     334    |    1364 K  |    1364 K  |\\n|       from large pool |      19    |     205    |     426 K  |     426 K  |\\n|       from small pool |      56    |     131    |     938 K  |     938 K  |\\n|---------------------------------------------------------------------------|\\n| GPU reserved segments |      25    |      72    |      72    |      47    |\\n|       from large pool |      21    |      63    |      63    |      42    |\\n|       from small pool |       4    |       9    |       9    |       5    |\\n|---------------------------------------------------------------------------|\\n| Non-releasable allocs |      33    |      84    |  665709    |  665676    |\\n|       from large pool |      17    |      57    |  290025    |  290008    |\\n|       from small pool |      16    |      30    |  375684    |  375668    |\\n|===========================================================================|\\n'"
            ]
          },
          "metadata": {
            "tags": []
          },
          "execution_count": 40
        }
      ]
    },
    {
      "cell_type": "code",
      "metadata": {
        "colab": {
          "base_uri": "https://localhost:8080/",
          "height": 151
        },
        "id": "kVbMCCiBwlLo",
        "outputId": "9a70ade0-987f-4522-ab89-6392b144f9d1"
      },
      "source": [
        "learn.freeze_to(-3)\n",
        "lr /= 2\n",
        "learn.fit_one_cycle(1, slice(lr/(2.6**4),lr), moms=(0.8,0.7), wd=0.1)"
      ],
      "execution_count": null,
      "outputs": [
        {
          "output_type": "display_data",
          "data": {
            "text/html": [
              "<table border=\"1\" class=\"dataframe\">\n",
              "  <thead>\n",
              "    <tr style=\"text-align: left;\">\n",
              "      <th>epoch</th>\n",
              "      <th>train_loss</th>\n",
              "      <th>valid_loss</th>\n",
              "      <th>accuracy</th>\n",
              "      <th>time</th>\n",
              "    </tr>\n",
              "  </thead>\n",
              "  <tbody>\n",
              "    <tr>\n",
              "      <td>0</td>\n",
              "      <td>0.149340</td>\n",
              "      <td>0.060804</td>\n",
              "      <td>0.978261</td>\n",
              "      <td>00:08</td>\n",
              "    </tr>\n",
              "  </tbody>\n",
              "</table>"
            ],
            "text/plain": [
              "<IPython.core.display.HTML object>"
            ]
          },
          "metadata": {
            "tags": []
          }
        },
        {
          "output_type": "stream",
          "text": [
            "/usr/local/lib/python3.7/dist-packages/numpy/core/_asarray.py:83: VisibleDeprecationWarning: Creating an ndarray from ragged nested sequences (which is a list-or-tuple of lists-or-tuples-or ndarrays with different lengths or shapes) is deprecated. If you meant to do this, you must specify 'dtype=object' when creating the ndarray\n",
            "  return array(a, dtype, copy=False, order=order)\n",
            "<string>:6: VisibleDeprecationWarning: Creating an ndarray from ragged nested sequences (which is a list-or-tuple of lists-or-tuples-or ndarrays with different lengths or shapes) is deprecated. If you meant to do this, you must specify 'dtype=object' when creating the ndarray\n"
          ],
          "name": "stderr"
        }
      ]
    },
    {
      "cell_type": "code",
      "metadata": {
        "id": "g3xWSB3qwoBQ",
        "colab": {
          "base_uri": "https://localhost:8080/",
          "height": 233
        },
        "outputId": "68ed065e-f09b-4d1b-c1f4-df398042b827"
      },
      "source": [
        "learn.unfreeze()\n",
        "lr /= 5\n",
        "learn.fit_one_cycle(2, slice(lr/(2.6**4),lr), moms=(0.8,0.7), wd=0.1)"
      ],
      "execution_count": null,
      "outputs": [
        {
          "output_type": "display_data",
          "data": {
            "text/html": [
              "<table border=\"1\" class=\"dataframe\">\n",
              "  <thead>\n",
              "    <tr style=\"text-align: left;\">\n",
              "      <th>epoch</th>\n",
              "      <th>train_loss</th>\n",
              "      <th>valid_loss</th>\n",
              "      <th>accuracy</th>\n",
              "      <th>time</th>\n",
              "    </tr>\n",
              "  </thead>\n",
              "  <tbody>\n",
              "    <tr>\n",
              "      <td>0</td>\n",
              "      <td>0.098621</td>\n",
              "      <td>0.044541</td>\n",
              "      <td>0.978261</td>\n",
              "      <td>00:11</td>\n",
              "    </tr>\n",
              "    <tr>\n",
              "      <td>1</td>\n",
              "      <td>0.104822</td>\n",
              "      <td>0.048841</td>\n",
              "      <td>0.978261</td>\n",
              "      <td>00:11</td>\n",
              "    </tr>\n",
              "  </tbody>\n",
              "</table>"
            ],
            "text/plain": [
              "<IPython.core.display.HTML object>"
            ]
          },
          "metadata": {
            "tags": []
          }
        },
        {
          "output_type": "stream",
          "text": [
            "/usr/local/lib/python3.7/dist-packages/numpy/core/_asarray.py:83: VisibleDeprecationWarning: Creating an ndarray from ragged nested sequences (which is a list-or-tuple of lists-or-tuples-or ndarrays with different lengths or shapes) is deprecated. If you meant to do this, you must specify 'dtype=object' when creating the ndarray\n",
            "  return array(a, dtype, copy=False, order=order)\n",
            "<string>:6: VisibleDeprecationWarning: Creating an ndarray from ragged nested sequences (which is a list-or-tuple of lists-or-tuples-or ndarrays with different lengths or shapes) is deprecated. If you meant to do this, you must specify 'dtype=object' when creating the ndarray\n",
            "/usr/local/lib/python3.7/dist-packages/numpy/core/_asarray.py:83: VisibleDeprecationWarning: Creating an ndarray from ragged nested sequences (which is a list-or-tuple of lists-or-tuples-or ndarrays with different lengths or shapes) is deprecated. If you meant to do this, you must specify 'dtype=object' when creating the ndarray\n",
            "  return array(a, dtype, copy=False, order=order)\n",
            "<string>:6: VisibleDeprecationWarning: Creating an ndarray from ragged nested sequences (which is a list-or-tuple of lists-or-tuples-or ndarrays with different lengths or shapes) is deprecated. If you meant to do this, you must specify 'dtype=object' when creating the ndarray\n"
          ],
          "name": "stderr"
        }
      ]
    },
    {
      "cell_type": "code",
      "metadata": {
        "id": "lWSdqte9NX4L"
      },
      "source": [
        "learn.save('fwd_clas')\n"
      ],
      "execution_count": null,
      "outputs": []
    },
    {
      "cell_type": "markdown",
      "metadata": {
        "id": "PezzDPU9NomR"
      },
      "source": [
        "## 12. Training backward Classifier\n",
        "\n"
      ]
    },
    {
      "cell_type": "code",
      "metadata": {
        "colab": {
          "base_uri": "https://localhost:8080/"
        },
        "id": "5QwoUE5PNkZp",
        "outputId": "7e2c1510-1f79-4696-859c-6ddcab60a787"
      },
      "source": [
        "learn_bwd = text_classifier_learner(data_clas_bwd, AWD_LSTM, drop_mult=0.5, pretrained=False)\n",
        "learn_bwd.load_encoder('bwd_enc')"
      ],
      "execution_count": null,
      "outputs": [
        {
          "output_type": "execute_result",
          "data": {
            "text/plain": [
              "RNNLearner(data=TextClasDataBunch;\n",
              "\n",
              "Train: LabelList (819 items)\n",
              "x: TextList\n",
              "xxbos insurance boss plead guilty another three us insurance executives plead guilty fraud charge stem ongoing investigation industry xxunk two executives american international group aig one marsh mclennan latest investigation new york attorney general eliot spitzer obtain nine guilty pleas highest rank executive plead guilty tuesday former marsh senior vice president joshua bewlay admit one felony count scheme defraud face four years prison marsh spokeswoman say mr bewlay longer company mr spitzer investigation us insurance industry look whether company rig bid fix price last month marsh agree pay settle lawsuit file mr spitzer settlement neither admit deny allegations,xxbos long life promise laptop pcs scientists work ways ensure laptops stay power entire work day build batteries new chemical mix could boost power significantly say industry experts change include everything way chip laptops make trick reduce power consumption display ever since laptops appear amount time last recharge frustration users survey carry forrester research find xxunk battery life complain feature laptops focus back performance feature say mike trainor chief mobile technology xxunk chip giant intel battery life stick two hours say laptops last much longer case improve battery life squeeze lithium ion power pack explain change need get holy grail laptop run eight hours need recharge lithium ion never go get say industry do great job xxunk possible energy storage technology new battery xxunk promise cram power space say mr trainor though work still need do get successfully lab manufacture sceptical fuel cells would develop quick enough take solid batteries even though potential produce several time energy lithium ion power pack fuel cells need pump xxunk xxunk chamber say mini energy plant need shrink shrink shrink intel work component makers test energy consumption part inside laptop find ways make less power hungry work lead creation mobile pc extend battery life xxunk work group share information build notebooks xxunk power improvements power use come simply components chip shrink say mr trainor intel also change way create xxunk silicon reduce power need larger scale say mr trainor improvements way voltage regulators make reduce amount power lose heat make notebook energy efficient also say mr trainor research do ways cut energy consumption display currently biggest power xxunk laptop many laptop makers commit create inch screen draw three watts power far power consumption level screen current notebooks get close eight hours place people see xxunk valuable industry deliver mr trainor say,xxbos news corp make bn fox offer news corporation seek buy minority investors fox entertainment group broadcast subsidiary bn bn media giant run rupert murdoch own share company home fox television network th century fox film studio move follow news corp decision register business us th century fox recent film release include heart xxunk robot fox put hit tv series term offer minority fox shareholders receive news corp share return fox share hold analysts say decision list news corp us result firm share trade new york rather sydney xxunk need retain separate stock market list fox entertainment share news corp investors vote october approve transfer company corporate xxunk australia us state delaware move design help news corp attract investment largest us financial institutions make easier raise capital fox entertainment group generate revenues bn last year news corp share fell cents share offer announce fox share cents,xxbos sony psp handheld console hit us latest handheld game gadget sony playstation portable go sale us thursday entertainment device also store image music video intend compete nintendo ds release earlier month uk gamers queue outside shop across us get hand gadget cost first million sell come spiderman film umd sony disc format device psp link others multiplayer game via wireless connection sony tout machine walkman st century sell units japan since launch last year face stiff competition nintendo ds sell gamecube first days release europe allow multiplayer game air nintendo dominate handheld market share market us alone gizmondo combine media player phone game gadget also go sale uk last week hop take share handheld game market story psp game device much portable entertainment device say michael xxunk analyst xxunk morgan securities tell reuters news agency expect sony sell million psps enough time rival apple ipod date psp release europe yet sony promise million units ready us launch fear demand may meet also say expect ship three million psps worldwide end fiscal year end march machine european launch put back months last week order make sure enough devices ready us launch well satisfy japanese market psp almost much process power playstation console hundreds gamers gather us shop wait hours first get hand gadget spokesman one us shop say expect device sell first day game mini console include xxunk academy formula one xxunk pure fire movie studios include lions gate entertainment disney also announce forthcoming film title make available umd format,xxbos marsh executive guilty xxunk executive us insurance firm marsh mclennan plead guilty criminal charge connection ongoing fraud bidrigging probe new york attorney general elliot spitzer say senior vice president robert stearns plead guilty scheme defraud offence carry sentence months four years state prison mr spitzer office add mr stearns also agree testify future case industry inquiry xxunk development marsh say statement company add would continue cooperate case add commit resolve company legal issue serve clients highest standards transparency ethics accord statement mr spitzer office marsh executive admit instruct insurance company submit noncompetitive bid insurance business bid xxunk marsh clients false fraudulent xxunk practice marsh allow determine insurers business clients control insurance market mr spitzer office add also protect incumbent insurers business renewal help marsh maximise fee statement say one case email show mr stearns instruct colleague solicit noncompetitive b quote aig higher premium restrictive coverage fix bid way would support present provider xxunk company also still examine us stock market regulator securities exchange commission sec late last month sec ask information transactions involve holders firm share\n",
              "y: CategoryList\n",
              "business,tech,business,tech,business\n",
              "Path: .;\n",
              "\n",
              "Valid: LabelList (92 items)\n",
              "x: TextList\n",
              "xxbos microsoft set sight spyware windows users could soon pay microsoft keep pcs free spyware follow takeover antispyware firm giant microsoft say would soon release xxunk strip machine irritate program although initially free microsoft rule charge people want keep xxunk date survey show almost every windows pc infest spyware program everything bombard users advert steal login data microsoft say beta version xxunk clean windows machine available within days design pcs run windows xp utility clean spyware program constantly monitor happen pc regularly update catch latest variants many microsoft security boost program firewall windows xp give away free mike xxunk vice president microsoft security business unit say still work price license issue charge future versions discount say come plan roll say plan could turn lucrative one microsoft recent survey earthlink webroot find pcs infest surreptitious software average one harbour separate spyware program currently users want protection spyware turn free program spybot adaware spyware come many form benign exploit xxunk browse habit install subject users unwanted advert form hijack net browser settings force people view page would otherwise never visit xxunk spyware watch everything people pc steal login information personal data microsoft announcement spyware come buy small new york software firm giant company software term acquisition disclose,xxbos mix reaction man utd offer share manchester unite xxunk monday follow new offer malcolm glazer board man utd expect meet early week discuss latest proposal us tycoon value club bn manchester unite reveal sunday receive detail proposal mr glazer senior source club tell bbc time different board oblige consider deal man utd supporters club urge club reject new deal manchester unite past present xxunk eric xxunk xxunk xxunk xxunk club manager sir alex ferguson lend back supporters group shareholders unite speak bid spokesman supporters club say see difference compare mr glazer previous proposals less debt bring money club use money buy mr glazer latest move lead mr glazer two sons avi joel accord financial time proposal receive david gill unite chief executive end last week pitch p share david xxunk head uk equities standard life investments say believe well fund p share bid would enough mr glazer take control club think anything manchester unite fan tell bbc complain xxunk may want go get us tycoon woo club last months approach unite board detail proposals confirm mr glazer own tampa bay buccaneer team hop lead formal bid accept believe increase amount equity new proposal though clear much proposal succeed need support unite largest shareholders irish xxunk tycoons jp mcmanus john magnier unite cubic expression investment vehicle mr glazer family hold stake yet know whether mr mcmanus mr magnier would support glazer bid nm xxunk investment bank advise mr glazer accord financial time previous adviser jpmorgan quit last year mr glazer go ahead vote appointment three unite directors board advice ft say think jp morgan may still role finance mr glazer latest financial proposal,xxbos xxunk chief leave company share train xxunk giant xxunk fall year low follow departure chief executive two members board paul xxunk also xxunk president leave company amid ongoing restructure xxunk xxunk part family control xxunk firm take role ceo newly create management structure analysts say xxunk seem stem xxunk dispute mr xxunk xxunk company begin january plan cut worldwide workforce almost third announce firm xxunk division defence service unit also sell xxunk start development new aircraft seat passengers mr xxunk indicate want stay world top train maker third largest manufacturer civil aircraft restructure complete xxunk face decline share price profit earlier month firm say earn third quarter profit year ago understand board concern would longterm need develop execute strategies need xxunk management structure time mr xxunk say statement monday xxunk say restructure plan draw mr xxunk would continue implement share xxunk lose canadian cents news canadian dollars rally canadian dollars,xxbos businesses fail plan xxunk company fail draw plan cope hivaids affect people country new research say find come report publish thursday world economic forum harvard un aid agency company respond xxunk social business threats say dr xxunk taylor head wef global health initiative nearly business leaders countries survey business hivaids commitment action dr taylor describe level action take businesses reveal report little late issue highlight business world leaders world economic forum meet davos switzerland next week wef report show despite fact people contract hivaids every day concern among businesses drop last months policies place address disease could business leaders survey say estimate xxunk xxunk among staff un programme tackle aid xxunk point clear strategy deal hivaids good investment well socially responsible one company plan xxunk international mine company estimate xxunk xxunk among strong southern african workforce last two years company implement extensive voluntary counsel test xxunk infection couple xxunk xxunk employees progress aid employees access remain treatment well return normal work effective action hivaids xxunk good business management lead profitable sustainable operations say brian brink senior vicepresident health xxunk company encourage workers know xxunk status make routine monitor blood pressure xxunk say provide access treatment critical part across subsaharan africa even countries xxunk xxunk around company formal hivaids policies place accord report gap even wider china ethiopia india nigeria russia socalled next wave countries predict experience highest number new hivaids case worldwide report add important build block understand business community experience hivaids xxunk whether react say david xxunk professor economics xxunk harvard school public health wef report conclude businesses need understand exposure hivaids risk come good local practice manage key priority high xxunk settings say wef establish policy base xxunk confidentiality,xxbos bbc lead interactive bafta win bbc national theatre lead field year interactive bafta award national theatre xxunk website pick prize best learn well top xxunk site bbc collect three award include best online entertainment xxunk guide xxunk adventure game spook interactive take best interactive tv prize annual award recognise best digital media bbc sport interactive fight competition xxunk xxunk guardian take home best news sport xxunk coverage england exit euro recognise groundbreaking use xxunk bafta grant dean chair bafta interactive entertainment committee say entrants outstanding quality judge enormously difficult without doubt landmark year bafta interactive award add many top award year go company commonly associate traditional entertainment show gap new media film television close award give different categories include interactive tv film music design well technical social innovation london ceremony top music award give xxunk xxunk mobile music xxunk design let people write edit share xxunk warner bros give two prize inspire efforts film dvd interactivity xxunk collection beat xxunk really bend like beckham xxunk dead day today dvd category xxunk best film elsewhere xxunk clothe designer alexander xxunk take xxunk xxunk website award run since british academy film television decide split separate game interactive xxunk tuesday halflife dominate game prize collect six xxunk include best game best online game\n",
              "y: CategoryList\n",
              "tech,business,business,business,tech\n",
              "Path: .;\n",
              "\n",
              "Test: None, model=SequentialRNN(\n",
              "  (0): MultiBatchEncoder(\n",
              "    (module): AWD_LSTM(\n",
              "      (encoder): Embedding(8768, 400, padding_idx=1)\n",
              "      (encoder_dp): EmbeddingDropout(\n",
              "        (emb): Embedding(8768, 400, padding_idx=1)\n",
              "      )\n",
              "      (rnns): ModuleList(\n",
              "        (0): WeightDropout(\n",
              "          (module): LSTM(400, 1152, batch_first=True)\n",
              "        )\n",
              "        (1): WeightDropout(\n",
              "          (module): LSTM(1152, 1152, batch_first=True)\n",
              "        )\n",
              "        (2): WeightDropout(\n",
              "          (module): LSTM(1152, 400, batch_first=True)\n",
              "        )\n",
              "      )\n",
              "      (input_dp): RNNDropout()\n",
              "      (hidden_dps): ModuleList(\n",
              "        (0): RNNDropout()\n",
              "        (1): RNNDropout()\n",
              "        (2): RNNDropout()\n",
              "      )\n",
              "    )\n",
              "  )\n",
              "  (1): PoolingLinearClassifier(\n",
              "    (layers): Sequential(\n",
              "      (0): BatchNorm1d(1200, eps=1e-05, momentum=0.1, affine=True, track_running_stats=True)\n",
              "      (1): Dropout(p=0.2, inplace=False)\n",
              "      (2): Linear(in_features=1200, out_features=50, bias=True)\n",
              "      (3): ReLU(inplace=True)\n",
              "      (4): BatchNorm1d(50, eps=1e-05, momentum=0.1, affine=True, track_running_stats=True)\n",
              "      (5): Dropout(p=0.1, inplace=False)\n",
              "      (6): Linear(in_features=50, out_features=2, bias=True)\n",
              "    )\n",
              "  )\n",
              "), opt_func=functools.partial(<class 'torch.optim.adam.Adam'>, betas=(0.9, 0.99)), loss_func=FlattenedLoss of CrossEntropyLoss(), metrics=[<function accuracy at 0x7f2d1ccd1a70>], true_wd=True, bn_wd=True, wd=0.01, train_bn=True, path=PosixPath('/content'), model_dir='models', callback_fns=[functools.partial(<class 'fastai.basic_train.Recorder'>, add_time=True, silent=False)], callbacks=[RNNTrainer\n",
              "learn: ...\n",
              "alpha: 2.0\n",
              "beta: 1.0], layer_groups=[Sequential(\n",
              "  (0): Embedding(8768, 400, padding_idx=1)\n",
              "  (1): EmbeddingDropout(\n",
              "    (emb): Embedding(8768, 400, padding_idx=1)\n",
              "  )\n",
              "), Sequential(\n",
              "  (0): WeightDropout(\n",
              "    (module): LSTM(400, 1152, batch_first=True)\n",
              "  )\n",
              "  (1): RNNDropout()\n",
              "), Sequential(\n",
              "  (0): WeightDropout(\n",
              "    (module): LSTM(1152, 1152, batch_first=True)\n",
              "  )\n",
              "  (1): RNNDropout()\n",
              "), Sequential(\n",
              "  (0): WeightDropout(\n",
              "    (module): LSTM(1152, 400, batch_first=True)\n",
              "  )\n",
              "  (1): RNNDropout()\n",
              "), Sequential(\n",
              "  (0): PoolingLinearClassifier(\n",
              "    (layers): Sequential(\n",
              "      (0): BatchNorm1d(1200, eps=1e-05, momentum=0.1, affine=True, track_running_stats=True)\n",
              "      (1): Dropout(p=0.2, inplace=False)\n",
              "      (2): Linear(in_features=1200, out_features=50, bias=True)\n",
              "      (3): ReLU(inplace=True)\n",
              "      (4): BatchNorm1d(50, eps=1e-05, momentum=0.1, affine=True, track_running_stats=True)\n",
              "      (5): Dropout(p=0.1, inplace=False)\n",
              "      (6): Linear(in_features=50, out_features=2, bias=True)\n",
              "    )\n",
              "  )\n",
              ")], add_time=True, silent=False)"
            ]
          },
          "metadata": {
            "tags": []
          },
          "execution_count": 44
        }
      ]
    },
    {
      "cell_type": "code",
      "metadata": {
        "colab": {
          "base_uri": "https://localhost:8080/",
          "height": 151
        },
        "id": "CkWNUPhCN351",
        "outputId": "55417e37-b1b8-481c-90de-cbbc23c0b85d"
      },
      "source": [
        "lr = 2e-2\n",
        "lr *= bs/48\n",
        "lr\n",
        "learn_bwd.fit_one_cycle(1, lr, moms=(0.8,0.7), wd=0.1)\n"
      ],
      "execution_count": null,
      "outputs": [
        {
          "output_type": "display_data",
          "data": {
            "text/html": [
              "<table border=\"1\" class=\"dataframe\">\n",
              "  <thead>\n",
              "    <tr style=\"text-align: left;\">\n",
              "      <th>epoch</th>\n",
              "      <th>train_loss</th>\n",
              "      <th>valid_loss</th>\n",
              "      <th>accuracy</th>\n",
              "      <th>time</th>\n",
              "    </tr>\n",
              "  </thead>\n",
              "  <tbody>\n",
              "    <tr>\n",
              "      <td>0</td>\n",
              "      <td>0.301723</td>\n",
              "      <td>0.135776</td>\n",
              "      <td>0.989130</td>\n",
              "      <td>00:04</td>\n",
              "    </tr>\n",
              "  </tbody>\n",
              "</table>"
            ],
            "text/plain": [
              "<IPython.core.display.HTML object>"
            ]
          },
          "metadata": {
            "tags": []
          }
        },
        {
          "output_type": "stream",
          "text": [
            "/usr/local/lib/python3.7/dist-packages/numpy/core/_asarray.py:83: VisibleDeprecationWarning: Creating an ndarray from ragged nested sequences (which is a list-or-tuple of lists-or-tuples-or ndarrays with different lengths or shapes) is deprecated. If you meant to do this, you must specify 'dtype=object' when creating the ndarray\n",
            "  return array(a, dtype, copy=False, order=order)\n",
            "<string>:6: VisibleDeprecationWarning: Creating an ndarray from ragged nested sequences (which is a list-or-tuple of lists-or-tuples-or ndarrays with different lengths or shapes) is deprecated. If you meant to do this, you must specify 'dtype=object' when creating the ndarray\n"
          ],
          "name": "stderr"
        }
      ]
    },
    {
      "cell_type": "code",
      "metadata": {
        "colab": {
          "base_uri": "https://localhost:8080/",
          "height": 151
        },
        "id": "VfYo4ZKfOKkl",
        "outputId": "5a01c9d1-dc9b-42b3-806f-216ad30ee02b"
      },
      "source": [
        "learn_bwd.freeze_to(-2)\n",
        "lr /= 2\n",
        "learn_bwd.fit_one_cycle(1, slice(lr/(2.6**4),lr), moms=(0.8,0.7), wd=0.1)"
      ],
      "execution_count": null,
      "outputs": [
        {
          "output_type": "display_data",
          "data": {
            "text/html": [
              "<table border=\"1\" class=\"dataframe\">\n",
              "  <thead>\n",
              "    <tr style=\"text-align: left;\">\n",
              "      <th>epoch</th>\n",
              "      <th>train_loss</th>\n",
              "      <th>valid_loss</th>\n",
              "      <th>accuracy</th>\n",
              "      <th>time</th>\n",
              "    </tr>\n",
              "  </thead>\n",
              "  <tbody>\n",
              "    <tr>\n",
              "      <td>0</td>\n",
              "      <td>0.214419</td>\n",
              "      <td>0.039729</td>\n",
              "      <td>1.000000</td>\n",
              "      <td>00:06</td>\n",
              "    </tr>\n",
              "  </tbody>\n",
              "</table>"
            ],
            "text/plain": [
              "<IPython.core.display.HTML object>"
            ]
          },
          "metadata": {
            "tags": []
          }
        },
        {
          "output_type": "stream",
          "text": [
            "/usr/local/lib/python3.7/dist-packages/numpy/core/_asarray.py:83: VisibleDeprecationWarning: Creating an ndarray from ragged nested sequences (which is a list-or-tuple of lists-or-tuples-or ndarrays with different lengths or shapes) is deprecated. If you meant to do this, you must specify 'dtype=object' when creating the ndarray\n",
            "  return array(a, dtype, copy=False, order=order)\n",
            "<string>:6: VisibleDeprecationWarning: Creating an ndarray from ragged nested sequences (which is a list-or-tuple of lists-or-tuples-or ndarrays with different lengths or shapes) is deprecated. If you meant to do this, you must specify 'dtype=object' when creating the ndarray\n"
          ],
          "name": "stderr"
        }
      ]
    },
    {
      "cell_type": "code",
      "metadata": {
        "colab": {
          "base_uri": "https://localhost:8080/",
          "height": 151
        },
        "id": "IbI-VVZzOPxb",
        "outputId": "cad848cf-1e57-45ec-9c76-5655b2f4b63d"
      },
      "source": [
        "learn_bwd.freeze_to(-3)\n",
        "lr /= 2\n",
        "learn_bwd.fit_one_cycle(1, slice(lr/(2.6**4),lr), moms=(0.8,0.7), wd=0.1)"
      ],
      "execution_count": null,
      "outputs": [
        {
          "output_type": "display_data",
          "data": {
            "text/html": [
              "<table border=\"1\" class=\"dataframe\">\n",
              "  <thead>\n",
              "    <tr style=\"text-align: left;\">\n",
              "      <th>epoch</th>\n",
              "      <th>train_loss</th>\n",
              "      <th>valid_loss</th>\n",
              "      <th>accuracy</th>\n",
              "      <th>time</th>\n",
              "    </tr>\n",
              "  </thead>\n",
              "  <tbody>\n",
              "    <tr>\n",
              "      <td>0</td>\n",
              "      <td>0.114676</td>\n",
              "      <td>0.035128</td>\n",
              "      <td>0.989130</td>\n",
              "      <td>00:10</td>\n",
              "    </tr>\n",
              "  </tbody>\n",
              "</table>"
            ],
            "text/plain": [
              "<IPython.core.display.HTML object>"
            ]
          },
          "metadata": {
            "tags": []
          }
        },
        {
          "output_type": "stream",
          "text": [
            "/usr/local/lib/python3.7/dist-packages/numpy/core/_asarray.py:83: VisibleDeprecationWarning: Creating an ndarray from ragged nested sequences (which is a list-or-tuple of lists-or-tuples-or ndarrays with different lengths or shapes) is deprecated. If you meant to do this, you must specify 'dtype=object' when creating the ndarray\n",
            "  return array(a, dtype, copy=False, order=order)\n",
            "<string>:6: VisibleDeprecationWarning: Creating an ndarray from ragged nested sequences (which is a list-or-tuple of lists-or-tuples-or ndarrays with different lengths or shapes) is deprecated. If you meant to do this, you must specify 'dtype=object' when creating the ndarray\n"
          ],
          "name": "stderr"
        }
      ]
    },
    {
      "cell_type": "code",
      "metadata": {
        "colab": {
          "base_uri": "https://localhost:8080/",
          "height": 233
        },
        "id": "Tgj5eKLQOVFA",
        "outputId": "ade45705-4040-4882-dfb2-d75fe51fa14c"
      },
      "source": [
        "learn_bwd.unfreeze()\n",
        "lr /= 5\n",
        "learn_bwd.fit_one_cycle(2, slice(lr/(2.6**4),lr), moms=(0.8,0.7), wd=0.1)"
      ],
      "execution_count": null,
      "outputs": [
        {
          "output_type": "display_data",
          "data": {
            "text/html": [
              "<table border=\"1\" class=\"dataframe\">\n",
              "  <thead>\n",
              "    <tr style=\"text-align: left;\">\n",
              "      <th>epoch</th>\n",
              "      <th>train_loss</th>\n",
              "      <th>valid_loss</th>\n",
              "      <th>accuracy</th>\n",
              "      <th>time</th>\n",
              "    </tr>\n",
              "  </thead>\n",
              "  <tbody>\n",
              "    <tr>\n",
              "      <td>0</td>\n",
              "      <td>0.112508</td>\n",
              "      <td>0.026348</td>\n",
              "      <td>0.989130</td>\n",
              "      <td>00:13</td>\n",
              "    </tr>\n",
              "    <tr>\n",
              "      <td>1</td>\n",
              "      <td>0.111519</td>\n",
              "      <td>0.024389</td>\n",
              "      <td>0.989130</td>\n",
              "      <td>00:12</td>\n",
              "    </tr>\n",
              "  </tbody>\n",
              "</table>"
            ],
            "text/plain": [
              "<IPython.core.display.HTML object>"
            ]
          },
          "metadata": {
            "tags": []
          }
        },
        {
          "output_type": "stream",
          "text": [
            "/usr/local/lib/python3.7/dist-packages/numpy/core/_asarray.py:83: VisibleDeprecationWarning: Creating an ndarray from ragged nested sequences (which is a list-or-tuple of lists-or-tuples-or ndarrays with different lengths or shapes) is deprecated. If you meant to do this, you must specify 'dtype=object' when creating the ndarray\n",
            "  return array(a, dtype, copy=False, order=order)\n",
            "<string>:6: VisibleDeprecationWarning: Creating an ndarray from ragged nested sequences (which is a list-or-tuple of lists-or-tuples-or ndarrays with different lengths or shapes) is deprecated. If you meant to do this, you must specify 'dtype=object' when creating the ndarray\n",
            "/usr/local/lib/python3.7/dist-packages/numpy/core/_asarray.py:83: VisibleDeprecationWarning: Creating an ndarray from ragged nested sequences (which is a list-or-tuple of lists-or-tuples-or ndarrays with different lengths or shapes) is deprecated. If you meant to do this, you must specify 'dtype=object' when creating the ndarray\n",
            "  return array(a, dtype, copy=False, order=order)\n",
            "<string>:6: VisibleDeprecationWarning: Creating an ndarray from ragged nested sequences (which is a list-or-tuple of lists-or-tuples-or ndarrays with different lengths or shapes) is deprecated. If you meant to do this, you must specify 'dtype=object' when creating the ndarray\n"
          ],
          "name": "stderr"
        }
      ]
    },
    {
      "cell_type": "code",
      "metadata": {
        "id": "RRo8BeeeObKF"
      },
      "source": [
        "learn_bwd.save('bwd_clas')\n"
      ],
      "execution_count": null,
      "outputs": []
    },
    {
      "cell_type": "markdown",
      "metadata": {
        "id": "JNYW_ncnOmg5"
      },
      "source": [
        "## 13. Ensembling both predictions\n",
        "\n",
        "For our final results, we'll take the average of the predictions of the forward and the backward models. SInce the samples are sorted by text lengths for batching, we pass the argument ordered=True to get the predictions in the order of the texts."
      ]
    },
    {
      "cell_type": "code",
      "metadata": {
        "colab": {
          "base_uri": "https://localhost:8080/",
          "height": 17
        },
        "id": "p-B93F2JOkml",
        "outputId": "aaf1dc8c-079b-4547-8e92-f51466dc6672"
      },
      "source": [
        "pred_fwd, targets_fwd = learn.get_preds(ordered=True)\n"
      ],
      "execution_count": null,
      "outputs": [
        {
          "output_type": "display_data",
          "data": {
            "text/html": [
              ""
            ],
            "text/plain": [
              "<IPython.core.display.HTML object>"
            ]
          },
          "metadata": {
            "tags": []
          }
        }
      ]
    },
    {
      "cell_type": "code",
      "metadata": {
        "colab": {
          "base_uri": "https://localhost:8080/",
          "height": 17
        },
        "id": "nIkLE_kpO6Y6",
        "outputId": "228035b8-3a1e-48e4-946e-752a69ac5419"
      },
      "source": [
        "pred_bwd,targets_bwd = learn_bwd.get_preds(ordered=True)\n"
      ],
      "execution_count": null,
      "outputs": [
        {
          "output_type": "display_data",
          "data": {
            "text/html": [
              ""
            ],
            "text/plain": [
              "<IPython.core.display.HTML object>"
            ]
          },
          "metadata": {
            "tags": []
          }
        }
      ]
    },
    {
      "cell_type": "code",
      "metadata": {
        "colab": {
          "base_uri": "https://localhost:8080/"
        },
        "collapsed": true,
        "id": "k9WN2o7-O9aW",
        "outputId": "4e0316ee-a1a0-4993-de51-2b62c67b70e2"
      },
      "source": [
        "pred_fwd"
      ],
      "execution_count": null,
      "outputs": [
        {
          "output_type": "execute_result",
          "data": {
            "text/plain": [
              "tensor([[1.4341e-03, 9.9857e-01],\n",
              "        [9.9909e-01, 9.0572e-04],\n",
              "        [9.9669e-01, 3.3059e-03],\n",
              "        [9.8903e-01, 1.0972e-02],\n",
              "        [2.2430e-04, 9.9978e-01],\n",
              "        [9.9830e-01, 1.7035e-03],\n",
              "        [1.3542e-03, 9.9865e-01],\n",
              "        [7.1861e-04, 9.9928e-01],\n",
              "        [3.3345e-04, 9.9967e-01],\n",
              "        [1.1111e-02, 9.8889e-01],\n",
              "        [2.3549e-03, 9.9765e-01],\n",
              "        [9.9788e-01, 2.1192e-03],\n",
              "        [2.4670e-03, 9.9753e-01],\n",
              "        [9.9488e-01, 5.1151e-03],\n",
              "        [5.2103e-03, 9.9479e-01],\n",
              "        [1.4343e-04, 9.9986e-01],\n",
              "        [9.5807e-01, 4.1933e-02],\n",
              "        [9.9510e-01, 4.8978e-03],\n",
              "        [7.6834e-04, 9.9923e-01],\n",
              "        [2.9621e-04, 9.9970e-01],\n",
              "        [9.9555e-01, 4.4512e-03],\n",
              "        [5.7628e-04, 9.9942e-01],\n",
              "        [9.9980e-01, 2.0405e-04],\n",
              "        [9.9829e-01, 1.7125e-03],\n",
              "        [9.9698e-01, 3.0220e-03],\n",
              "        [2.9042e-03, 9.9710e-01],\n",
              "        [9.9549e-01, 4.5138e-03],\n",
              "        [9.9532e-01, 4.6767e-03],\n",
              "        [6.6835e-04, 9.9933e-01],\n",
              "        [1.2729e-03, 9.9873e-01],\n",
              "        [9.8958e-01, 1.0421e-02],\n",
              "        [9.9703e-01, 2.9721e-03],\n",
              "        [9.9198e-01, 8.0206e-03],\n",
              "        [6.0982e-04, 9.9939e-01],\n",
              "        [9.9213e-01, 7.8691e-03],\n",
              "        [1.6896e-01, 8.3104e-01],\n",
              "        [9.7749e-01, 2.2508e-02],\n",
              "        [9.9892e-01, 1.0817e-03],\n",
              "        [9.9117e-01, 8.8277e-03],\n",
              "        [2.8183e-01, 7.1817e-01],\n",
              "        [8.7236e-05, 9.9991e-01],\n",
              "        [8.7419e-04, 9.9913e-01],\n",
              "        [9.9051e-01, 9.4891e-03],\n",
              "        [9.8078e-01, 1.9218e-02],\n",
              "        [9.9754e-01, 2.4644e-03],\n",
              "        [3.2716e-03, 9.9673e-01],\n",
              "        [9.7978e-01, 2.0219e-02],\n",
              "        [8.7652e-01, 1.2348e-01],\n",
              "        [9.9163e-01, 8.3680e-03],\n",
              "        [9.9565e-01, 4.3532e-03],\n",
              "        [9.9756e-01, 2.4368e-03],\n",
              "        [9.9424e-01, 5.7614e-03],\n",
              "        [9.9459e-01, 5.4104e-03],\n",
              "        [2.4672e-03, 9.9753e-01],\n",
              "        [7.2738e-01, 2.7262e-01],\n",
              "        [9.9790e-01, 2.1045e-03],\n",
              "        [9.9505e-01, 4.9529e-03],\n",
              "        [9.9863e-01, 1.3654e-03],\n",
              "        [2.6964e-03, 9.9730e-01],\n",
              "        [9.9827e-01, 1.7328e-03],\n",
              "        [3.8739e-03, 9.9613e-01],\n",
              "        [6.4551e-01, 3.5449e-01],\n",
              "        [9.9461e-01, 5.3886e-03],\n",
              "        [9.3586e-01, 6.4138e-02],\n",
              "        [9.8736e-01, 1.2637e-02],\n",
              "        [4.7250e-03, 9.9527e-01],\n",
              "        [1.5036e-03, 9.9850e-01],\n",
              "        [2.7002e-03, 9.9730e-01],\n",
              "        [1.3257e-02, 9.8674e-01],\n",
              "        [9.9907e-01, 9.2590e-04],\n",
              "        [1.2803e-03, 9.9872e-01],\n",
              "        [9.9845e-01, 1.5462e-03],\n",
              "        [2.9527e-03, 9.9705e-01],\n",
              "        [8.0651e-04, 9.9919e-01],\n",
              "        [9.9764e-01, 2.3588e-03],\n",
              "        [6.0823e-03, 9.9392e-01],\n",
              "        [4.3303e-03, 9.9567e-01],\n",
              "        [9.8466e-01, 1.5341e-02],\n",
              "        [4.6198e-04, 9.9954e-01],\n",
              "        [2.0701e-02, 9.7930e-01],\n",
              "        [9.9898e-01, 1.0164e-03],\n",
              "        [9.9385e-01, 6.1482e-03],\n",
              "        [1.7233e-03, 9.9828e-01],\n",
              "        [9.9787e-01, 2.1310e-03],\n",
              "        [9.6777e-01, 3.2226e-02],\n",
              "        [5.1454e-04, 9.9949e-01],\n",
              "        [9.9860e-01, 1.4033e-03],\n",
              "        [9.9610e-01, 3.9011e-03],\n",
              "        [9.8937e-01, 1.0633e-02],\n",
              "        [9.9775e-01, 2.2532e-03],\n",
              "        [1.2689e-03, 9.9873e-01],\n",
              "        [3.8947e-04, 9.9961e-01]])"
            ]
          },
          "metadata": {
            "tags": []
          },
          "execution_count": 56
        }
      ]
    },
    {
      "cell_type": "code",
      "metadata": {
        "colab": {
          "base_uri": "https://localhost:8080/"
        },
        "id": "FaMFX6e9PJxk",
        "outputId": "c8eab97b-f3e9-4ebd-bd42-89e89d05ba2d"
      },
      "source": [
        "9.9857e-01"
      ],
      "execution_count": null,
      "outputs": [
        {
          "output_type": "execute_result",
          "data": {
            "text/plain": [
              "0.99857"
            ]
          },
          "metadata": {
            "tags": []
          },
          "execution_count": 58
        }
      ]
    },
    {
      "cell_type": "code",
      "metadata": {
        "colab": {
          "base_uri": "https://localhost:8080/"
        },
        "collapsed": true,
        "id": "rEO5RRR3PCbC",
        "outputId": "286baabc-4e1a-477c-a46d-9876f3c9a04e"
      },
      "source": [
        "final_pred = (pred_fwd+pred_bwd)/2\n",
        "final_pred"
      ],
      "execution_count": null,
      "outputs": [
        {
          "output_type": "execute_result",
          "data": {
            "text/plain": [
              "tensor([[9.2034e-04, 9.9908e-01],\n",
              "        [9.9607e-01, 3.9272e-03],\n",
              "        [9.9743e-01, 2.5699e-03],\n",
              "        [9.9101e-01, 8.9873e-03],\n",
              "        [1.6438e-02, 9.8356e-01],\n",
              "        [9.9876e-01, 1.2427e-03],\n",
              "        [1.0829e-03, 9.9892e-01],\n",
              "        [4.9118e-04, 9.9951e-01],\n",
              "        [6.6969e-03, 9.9330e-01],\n",
              "        [5.5375e-02, 9.4463e-01],\n",
              "        [4.2907e-03, 9.9571e-01],\n",
              "        [9.9726e-01, 2.7435e-03],\n",
              "        [2.6566e-03, 9.9734e-01],\n",
              "        [9.9391e-01, 6.0894e-03],\n",
              "        [2.3101e-02, 9.7690e-01],\n",
              "        [3.5853e-04, 9.9964e-01],\n",
              "        [9.6624e-01, 3.3756e-02],\n",
              "        [9.9706e-01, 2.9433e-03],\n",
              "        [4.7275e-03, 9.9527e-01],\n",
              "        [6.2977e-04, 9.9937e-01],\n",
              "        [9.9583e-01, 4.1739e-03],\n",
              "        [1.5903e-03, 9.9841e-01],\n",
              "        [9.9934e-01, 6.5698e-04],\n",
              "        [9.9417e-01, 5.8278e-03],\n",
              "        [9.9710e-01, 2.9013e-03],\n",
              "        [1.7240e-03, 9.9828e-01],\n",
              "        [9.9314e-01, 6.8607e-03],\n",
              "        [9.8784e-01, 1.2161e-02],\n",
              "        [1.2313e-03, 9.9877e-01],\n",
              "        [2.5383e-03, 9.9746e-01],\n",
              "        [9.9341e-01, 6.5928e-03],\n",
              "        [9.9682e-01, 3.1764e-03],\n",
              "        [9.9259e-01, 7.4106e-03],\n",
              "        [1.7022e-03, 9.9830e-01],\n",
              "        [9.9452e-01, 5.4798e-03],\n",
              "        [4.9069e-01, 5.0931e-01],\n",
              "        [9.8073e-01, 1.9269e-02],\n",
              "        [9.9296e-01, 7.0417e-03],\n",
              "        [9.9377e-01, 6.2325e-03],\n",
              "        [2.1562e-01, 7.8438e-01],\n",
              "        [1.3002e-04, 9.9987e-01],\n",
              "        [6.2527e-03, 9.9375e-01],\n",
              "        [9.9229e-01, 7.7066e-03],\n",
              "        [9.8424e-01, 1.5756e-02],\n",
              "        [9.9745e-01, 2.5477e-03],\n",
              "        [4.8711e-02, 9.5129e-01],\n",
              "        [9.8571e-01, 1.4289e-02],\n",
              "        [8.9026e-01, 1.0974e-01],\n",
              "        [9.9314e-01, 6.8573e-03],\n",
              "        [9.9661e-01, 3.3948e-03],\n",
              "        [9.9770e-01, 2.3025e-03],\n",
              "        [9.9353e-01, 6.4741e-03],\n",
              "        [9.9582e-01, 4.1813e-03],\n",
              "        [1.9559e-03, 9.9804e-01],\n",
              "        [6.5520e-01, 3.4480e-01],\n",
              "        [9.9676e-01, 3.2403e-03],\n",
              "        [9.9548e-01, 4.5151e-03],\n",
              "        [9.9858e-01, 1.4219e-03],\n",
              "        [4.7612e-03, 9.9524e-01],\n",
              "        [9.9703e-01, 2.9708e-03],\n",
              "        [6.1698e-03, 9.9383e-01],\n",
              "        [8.1891e-01, 1.8109e-01],\n",
              "        [9.9090e-01, 9.0971e-03],\n",
              "        [9.6343e-01, 3.6569e-02],\n",
              "        [9.8397e-01, 1.6029e-02],\n",
              "        [4.4887e-03, 9.9551e-01],\n",
              "        [1.5980e-03, 9.9840e-01],\n",
              "        [2.1133e-03, 9.9789e-01],\n",
              "        [2.2195e-02, 9.7781e-01],\n",
              "        [9.9770e-01, 2.3023e-03],\n",
              "        [8.8233e-04, 9.9912e-01],\n",
              "        [9.9756e-01, 2.4418e-03],\n",
              "        [5.9422e-03, 9.9406e-01],\n",
              "        [3.3900e-03, 9.9661e-01],\n",
              "        [9.9784e-01, 2.1575e-03],\n",
              "        [5.3340e-03, 9.9467e-01],\n",
              "        [2.4074e-03, 9.9759e-01],\n",
              "        [9.9033e-01, 9.6684e-03],\n",
              "        [8.3448e-04, 9.9917e-01],\n",
              "        [7.1569e-02, 9.2843e-01],\n",
              "        [9.9886e-01, 1.1357e-03],\n",
              "        [9.9489e-01, 5.1083e-03],\n",
              "        [6.4294e-03, 9.9357e-01],\n",
              "        [9.9732e-01, 2.6781e-03],\n",
              "        [9.7629e-01, 2.3715e-02],\n",
              "        [7.9733e-03, 9.9203e-01],\n",
              "        [9.9810e-01, 1.9018e-03],\n",
              "        [9.9402e-01, 5.9823e-03],\n",
              "        [9.9277e-01, 7.2287e-03],\n",
              "        [9.9595e-01, 4.0493e-03],\n",
              "        [3.1046e-03, 9.9690e-01],\n",
              "        [1.4805e-03, 9.9852e-01]])"
            ]
          },
          "metadata": {
            "tags": []
          },
          "execution_count": 68
        }
      ]
    },
    {
      "cell_type": "code",
      "metadata": {
        "colab": {
          "base_uri": "https://localhost:8080/"
        },
        "id": "67Jq3fD4QHti",
        "outputId": "b5876369-e83d-4ca6-fcbf-9844bf2481f1"
      },
      "source": [
        "df_val.shape"
      ],
      "execution_count": null,
      "outputs": [
        {
          "output_type": "execute_result",
          "data": {
            "text/plain": [
              "(92, 2)"
            ]
          },
          "metadata": {
            "tags": []
          },
          "execution_count": 69
        }
      ]
    },
    {
      "cell_type": "code",
      "metadata": {
        "colab": {
          "base_uri": "https://localhost:8080/",
          "height": 159
        },
        "id": "P7N2CuF0PhtY",
        "outputId": "09bd5905-aa17-4678-ac9c-316b53de3f9b"
      },
      "source": [
        "print(\" Accuracy : \", accuracy(final_pred, targets_fwd))\n",
        "\n",
        "predictions = np.argmax(final_pred , axis = 1)\n",
        "confusion_matrix = pd.crosstab(predictions, targets_fwd)\n",
        "confusion_matrix"
      ],
      "execution_count": null,
      "outputs": [
        {
          "output_type": "stream",
          "text": [
            " Accuracy :  tensor(0.9783)\n"
          ],
          "name": "stdout"
        },
        {
          "output_type": "execute_result",
          "data": {
            "text/html": [
              "<div>\n",
              "<style scoped>\n",
              "    .dataframe tbody tr th:only-of-type {\n",
              "        vertical-align: middle;\n",
              "    }\n",
              "\n",
              "    .dataframe tbody tr th {\n",
              "        vertical-align: top;\n",
              "    }\n",
              "\n",
              "    .dataframe thead th {\n",
              "        text-align: right;\n",
              "    }\n",
              "</style>\n",
              "<table border=\"1\" class=\"dataframe\">\n",
              "  <thead>\n",
              "    <tr style=\"text-align: right;\">\n",
              "      <th>col_0</th>\n",
              "      <th>0</th>\n",
              "      <th>1</th>\n",
              "    </tr>\n",
              "    <tr>\n",
              "      <th>row_0</th>\n",
              "      <th></th>\n",
              "      <th></th>\n",
              "    </tr>\n",
              "  </thead>\n",
              "  <tbody>\n",
              "    <tr>\n",
              "      <th>0</th>\n",
              "      <td>51</td>\n",
              "      <td>1</td>\n",
              "    </tr>\n",
              "    <tr>\n",
              "      <th>1</th>\n",
              "      <td>1</td>\n",
              "      <td>39</td>\n",
              "    </tr>\n",
              "  </tbody>\n",
              "</table>\n",
              "</div>"
            ],
            "text/plain": [
              "col_0   0   1\n",
              "row_0        \n",
              "0      51   1\n",
              "1       1  39"
            ]
          },
          "metadata": {
            "tags": []
          },
          "execution_count": 72
        }
      ]
    },
    {
      "cell_type": "code",
      "metadata": {
        "colab": {
          "base_uri": "https://localhost:8080/"
        },
        "id": "lY0Bx4QkPkIJ",
        "outputId": "fc6d420d-b84e-45b6-88cf-08942685bf66"
      },
      "source": [
        "df_val['category'].value_counts()"
      ],
      "execution_count": null,
      "outputs": [
        {
          "output_type": "execute_result",
          "data": {
            "text/plain": [
              "business    52\n",
              "tech        40\n",
              "Name: category, dtype: int64"
            ]
          },
          "metadata": {
            "tags": []
          },
          "execution_count": 77
        }
      ]
    },
    {
      "cell_type": "markdown",
      "metadata": {
        "id": "jJe3iP6VRScH"
      },
      "source": [
        "## Pretty cool results of 97.83% accuracy "
      ]
    },
    {
      "cell_type": "code",
      "metadata": {
        "id": "zvGqFSefQ8yL"
      },
      "source": [
        ""
      ],
      "execution_count": null,
      "outputs": []
    }
  ]
}